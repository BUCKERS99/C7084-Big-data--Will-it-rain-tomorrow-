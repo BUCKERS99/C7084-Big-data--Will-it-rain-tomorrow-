{
  "cells": [
    {
      "cell_type": "code",
      "execution_count": 25,
      "id": "2457cbbe-7c8b-4d1d-959f-6e82af0ad80b",
      "metadata": {
        "execution": {
          "iopub.execute_input": "2022-03-16T16:14:12.434033Z",
          "iopub.status.busy": "2022-03-16T16:14:12.433726Z",
          "iopub.status.idle": "2022-03-16T16:14:12.438558Z",
          "shell.execute_reply": "2022-03-16T16:14:12.437956Z",
          "shell.execute_reply.started": "2022-03-16T16:14:12.434003Z"
        },
        "tags": [],
        "id": "2457cbbe-7c8b-4d1d-959f-6e82af0ad80b"
      },
      "outputs": [],
      "source": [
        "import numpy as np\n",
        "import pandas as pd\n",
        "\n",
        "import matplotlib.pyplot as plt\n",
        "import seaborn as sns\n",
        "\n",
        "from sklearn.model_selection import train_test_split\n",
        "from sklearn.impute import SimpleImputer\n",
        "from sklearn.preprocessing import MinMaxScaler\n",
        "from sklearn.neighbors import KNeighborsClassifier\n",
        "from sklearn.pipeline import Pipeline\n",
        "from sklearn import set_config\n",
        "from sklearn.metrics import confusion_matrix, classification_report, accuracy_score, f1_score\n",
        "import time"
      ]
    },
    {
      "cell_type": "code",
      "execution_count": 3,
      "id": "8f041115-c9a5-457f-8f47-e191ad31193f",
      "metadata": {
        "execution": {
          "iopub.execute_input": "2022-03-16T12:49:49.384399Z",
          "iopub.status.busy": "2022-03-16T12:49:49.384102Z",
          "iopub.status.idle": "2022-03-16T12:49:50.037177Z",
          "shell.execute_reply": "2022-03-16T12:49:50.036323Z",
          "shell.execute_reply.started": "2022-03-16T12:49:49.384361Z"
        },
        "tags": [],
        "id": "8f041115-c9a5-457f-8f47-e191ad31193f"
      },
      "outputs": [],
      "source": [
        "# import the data set.\n",
        "# do this directly from the github\n",
        "url = \"https://raw.githubusercontent.com/BUCKERS99/C7084-Big-data--Will-it-rain-tomorrow-/main/weather_data.csv\"\n",
        "df = pd.read_csv(url)\n",
        "# print(c)"
      ]
    },
    {
      "cell_type": "code",
      "execution_count": 4,
      "id": "7efa4869-3eb5-43aa-9a0c-35ef711fb3d0",
      "metadata": {
        "execution": {
          "iopub.execute_input": "2022-03-16T12:51:35.847735Z",
          "iopub.status.busy": "2022-03-16T12:51:35.847451Z",
          "iopub.status.idle": "2022-03-16T12:51:35.884405Z",
          "shell.execute_reply": "2022-03-16T12:51:35.883715Z",
          "shell.execute_reply.started": "2022-03-16T12:51:35.847706Z"
        },
        "tags": [],
        "colab": {
          "base_uri": "https://localhost:8080/"
        },
        "id": "7efa4869-3eb5-43aa-9a0c-35ef711fb3d0",
        "outputId": "201c4522-be80-44fc-b8de-534b67326932"
      },
      "outputs": [
        {
          "output_type": "execute_result",
          "data": {
            "text/plain": [
              "<bound method NDFrame.head of               Date Location  MinTemp  MaxTemp  Rainfall  Evaporation  \\\n",
              "0       01/12/2008   Albury     13.4     22.9       0.6          NaN   \n",
              "1       02/12/2008   Albury      7.4     25.1       0.0          NaN   \n",
              "2       03/12/2008   Albury     12.9     25.7       0.0          NaN   \n",
              "3       04/12/2008   Albury      9.2     28.0       0.0          NaN   \n",
              "4       05/12/2008   Albury     17.5     32.3       1.0          NaN   \n",
              "...            ...      ...      ...      ...       ...          ...   \n",
              "145455  21/06/2017    Uluru      2.8     23.4       0.0          NaN   \n",
              "145456  22/06/2017    Uluru      3.6     25.3       0.0          NaN   \n",
              "145457  23/06/2017    Uluru      5.4     26.9       0.0          NaN   \n",
              "145458  24/06/2017    Uluru      7.8     27.0       0.0          NaN   \n",
              "145459  25/06/2017    Uluru     14.9      NaN       0.0          NaN   \n",
              "\n",
              "        Sunshine WindGustDir  WindGustSpeed WindDir9am  ... Humidity9am  \\\n",
              "0            NaN           W           44.0          W  ...        71.0   \n",
              "1            NaN         WNW           44.0        NNW  ...        44.0   \n",
              "2            NaN         WSW           46.0          W  ...        38.0   \n",
              "3            NaN          NE           24.0         SE  ...        45.0   \n",
              "4            NaN           W           41.0        ENE  ...        82.0   \n",
              "...          ...         ...            ...        ...  ...         ...   \n",
              "145455       NaN           E           31.0         SE  ...        51.0   \n",
              "145456       NaN         NNW           22.0         SE  ...        56.0   \n",
              "145457       NaN           N           37.0         SE  ...        53.0   \n",
              "145458       NaN          SE           28.0        SSE  ...        51.0   \n",
              "145459       NaN         NaN            NaN        ESE  ...        62.0   \n",
              "\n",
              "        Humidity3pm  Pressure9am  Pressure3pm  Cloud9am  Cloud3pm  Temp9am  \\\n",
              "0              22.0       1007.7       1007.1       8.0       NaN     16.9   \n",
              "1              25.0       1010.6       1007.8       NaN       NaN     17.2   \n",
              "2              30.0       1007.6       1008.7       NaN       2.0     21.0   \n",
              "3              16.0       1017.6       1012.8       NaN       NaN     18.1   \n",
              "4              33.0       1010.8       1006.0       7.0       8.0     17.8   \n",
              "...             ...          ...          ...       ...       ...      ...   \n",
              "145455         24.0       1024.6       1020.3       NaN       NaN     10.1   \n",
              "145456         21.0       1023.5       1019.1       NaN       NaN     10.9   \n",
              "145457         24.0       1021.0       1016.8       NaN       NaN     12.5   \n",
              "145458         24.0       1019.4       1016.5       3.0       2.0     15.1   \n",
              "145459         36.0       1020.2       1017.9       8.0       8.0     15.0   \n",
              "\n",
              "        Temp3pm  RainToday  RainTomorrow  \n",
              "0          21.8         No            No  \n",
              "1          24.3         No            No  \n",
              "2          23.2         No            No  \n",
              "3          26.5         No            No  \n",
              "4          29.7         No            No  \n",
              "...         ...        ...           ...  \n",
              "145455     22.4         No            No  \n",
              "145456     24.5         No            No  \n",
              "145457     26.1         No            No  \n",
              "145458     26.0         No            No  \n",
              "145459     20.9         No           NaN  \n",
              "\n",
              "[145460 rows x 23 columns]>"
            ]
          },
          "metadata": {},
          "execution_count": 4
        }
      ],
      "source": [
        "## EDA ####\n",
        " # showing the forst and last 5 rows of the data and all variables\n",
        "df.head\n"
      ]
    },
    {
      "cell_type": "code",
      "execution_count": 5,
      "id": "8972b764-82c9-416f-b676-d584ea80401d",
      "metadata": {
        "execution": {
          "iopub.execute_input": "2022-03-16T12:52:04.403663Z",
          "iopub.status.busy": "2022-03-16T12:52:04.403384Z",
          "iopub.status.idle": "2022-03-16T12:52:04.465067Z",
          "shell.execute_reply": "2022-03-16T12:52:04.464358Z",
          "shell.execute_reply.started": "2022-03-16T12:52:04.403635Z"
        },
        "tags": [],
        "colab": {
          "base_uri": "https://localhost:8080/"
        },
        "id": "8972b764-82c9-416f-b676-d584ea80401d",
        "outputId": "6f0bfa93-618d-4b5b-fed5-2454fda5935d"
      },
      "outputs": [
        {
          "output_type": "stream",
          "name": "stdout",
          "text": [
            "<class 'pandas.core.frame.DataFrame'>\n",
            "RangeIndex: 145460 entries, 0 to 145459\n",
            "Data columns (total 23 columns):\n",
            " #   Column         Non-Null Count   Dtype  \n",
            "---  ------         --------------   -----  \n",
            " 0   Date           145460 non-null  object \n",
            " 1   Location       145460 non-null  object \n",
            " 2   MinTemp        143975 non-null  float64\n",
            " 3   MaxTemp        144199 non-null  float64\n",
            " 4   Rainfall       142199 non-null  float64\n",
            " 5   Evaporation    82670 non-null   float64\n",
            " 6   Sunshine       75625 non-null   float64\n",
            " 7   WindGustDir    135134 non-null  object \n",
            " 8   WindGustSpeed  135197 non-null  float64\n",
            " 9   WindDir9am     134894 non-null  object \n",
            " 10  WindDir3pm     141232 non-null  object \n",
            " 11  WindSpeed9am   143693 non-null  float64\n",
            " 12  WindSpeed3pm   142398 non-null  float64\n",
            " 13  Humidity9am    142806 non-null  float64\n",
            " 14  Humidity3pm    140953 non-null  float64\n",
            " 15  Pressure9am    130395 non-null  float64\n",
            " 16  Pressure3pm    130432 non-null  float64\n",
            " 17  Cloud9am       89572 non-null   float64\n",
            " 18  Cloud3pm       86102 non-null   float64\n",
            " 19  Temp9am        143693 non-null  float64\n",
            " 20  Temp3pm        141851 non-null  float64\n",
            " 21  RainToday      142199 non-null  object \n",
            " 22  RainTomorrow   142193 non-null  object \n",
            "dtypes: float64(16), object(7)\n",
            "memory usage: 25.5+ MB\n"
          ]
        }
      ],
      "source": [
        "# looking at the data types and non-null values\n",
        "df.info()\n",
        "# this shows that there is some NA values"
      ]
    },
    {
      "cell_type": "code",
      "execution_count": 6,
      "id": "b055feec-b967-4c42-9d97-feb40d2c420f",
      "metadata": {
        "execution": {
          "iopub.execute_input": "2022-03-16T12:52:53.793989Z",
          "iopub.status.busy": "2022-03-16T12:52:53.793670Z",
          "iopub.status.idle": "2022-03-16T12:52:53.797859Z",
          "shell.execute_reply": "2022-03-16T12:52:53.797207Z",
          "shell.execute_reply.started": "2022-03-16T12:52:53.793957Z"
        },
        "tags": [],
        "colab": {
          "base_uri": "https://localhost:8080/"
        },
        "id": "b055feec-b967-4c42-9d97-feb40d2c420f",
        "outputId": "b8ea57db-2e3f-4e48-a491-e7200c6cb55f"
      },
      "outputs": [
        {
          "output_type": "stream",
          "name": "stdout",
          "text": [
            "Index(['Date', 'Location', 'MinTemp', 'MaxTemp', 'Rainfall', 'Evaporation',\n",
            "       'Sunshine', 'WindGustDir', 'WindGustSpeed', 'WindDir9am', 'WindDir3pm',\n",
            "       'WindSpeed9am', 'WindSpeed3pm', 'Humidity9am', 'Humidity3pm',\n",
            "       'Pressure9am', 'Pressure3pm', 'Cloud9am', 'Cloud3pm', 'Temp9am',\n",
            "       'Temp3pm', 'RainToday', 'RainTomorrow'],\n",
            "      dtype='object')\n"
          ]
        }
      ],
      "source": [
        "# look at the column names\n",
        "print(df.columns)"
      ]
    },
    {
      "cell_type": "code",
      "execution_count": 7,
      "id": "6488fd56-b427-4918-9c18-1a9b8970fee1",
      "metadata": {
        "execution": {
          "iopub.execute_input": "2022-03-16T12:57:15.777482Z",
          "iopub.status.busy": "2022-03-16T12:57:15.777205Z",
          "iopub.status.idle": "2022-03-16T12:57:15.782246Z",
          "shell.execute_reply": "2022-03-16T12:57:15.781636Z",
          "shell.execute_reply.started": "2022-03-16T12:57:15.777456Z"
        },
        "tags": [],
        "colab": {
          "base_uri": "https://localhost:8080/"
        },
        "id": "6488fd56-b427-4918-9c18-1a9b8970fee1",
        "outputId": "2d3c01ec-495a-4026-bc44-4c78e32be1cb"
      },
      "outputs": [
        {
          "output_type": "stream",
          "name": "stdout",
          "text": [
            "Model features:  Index(['Date', 'Location', 'MinTemp', 'MaxTemp', 'Rainfall', 'Evaporation',\n",
            "       'Sunshine', 'WindGustDir', 'WindGustSpeed', 'WindDir9am', 'WindDir3pm',\n",
            "       'WindSpeed9am', 'WindSpeed3pm', 'Humidity9am', 'Humidity3pm',\n",
            "       'Pressure9am', 'Pressure3pm', 'Cloud9am', 'Cloud3pm', 'Temp9am',\n",
            "       'Temp3pm', 'RainToday'],\n",
            "      dtype='object')\n",
            "Model target:  RainTomorrow\n"
          ]
        }
      ],
      "source": [
        "# separate the model features and target\n",
        "model_features = df.columns.drop('RainTomorrow')\n",
        "model_target = 'RainTomorrow'\n",
        "\n",
        "print('Model features: ', model_features)\n",
        "print('Model target: ', model_target)"
      ]
    },
    {
      "cell_type": "code",
      "execution_count": 8,
      "id": "a0dd7a87-fdb9-4e36-b183-5f2f22f193e4",
      "metadata": {
        "execution": {
          "iopub.execute_input": "2022-03-16T13:05:50.176128Z",
          "iopub.status.busy": "2022-03-16T13:05:50.175853Z",
          "iopub.status.idle": "2022-03-16T13:05:50.246743Z",
          "shell.execute_reply": "2022-03-16T13:05:50.245995Z",
          "shell.execute_reply.started": "2022-03-16T13:05:50.176102Z"
        },
        "tags": [],
        "colab": {
          "base_uri": "https://localhost:8080/"
        },
        "id": "a0dd7a87-fdb9-4e36-b183-5f2f22f193e4",
        "outputId": "8074df98-d42a-4cc7-985a-c661f8c35a79"
      },
      "outputs": [
        {
          "output_type": "stream",
          "name": "stdout",
          "text": [
            "Index(['MinTemp', 'MaxTemp', 'Rainfall', 'Evaporation', 'Sunshine',\n",
            "       'WindGustSpeed', 'WindSpeed9am', 'WindSpeed3pm', 'Humidity9am',\n",
            "       'Humidity3pm', 'Pressure9am', 'Pressure3pm', 'Cloud9am', 'Cloud3pm',\n",
            "       'Temp9am', 'Temp3pm'],\n",
            "      dtype='object')\n",
            "Index(['Date', 'Location', 'WindGustDir', 'WindDir9am', 'WindDir3pm',\n",
            "       'RainToday'],\n",
            "      dtype='object')\n"
          ]
        }
      ],
      "source": [
        "numerical_features_full = df[model_features].select_dtypes(include=np.number).columns\n",
        "factor_features_full = df[model_features].select_dtypes(include='object').columns\n",
        "print(df[model_features].select_dtypes(include=np.number).columns)\n",
        "print(df[model_features].select_dtypes(include='object').columns)"
      ]
    },
    {
      "cell_type": "code",
      "execution_count": null,
      "id": "3dfe5c15-4508-4c60-9d31-988dc38272dd",
      "metadata": {
        "id": "3dfe5c15-4508-4c60-9d31-988dc38272dd"
      },
      "outputs": [],
      "source": [
        "## EDA Plots"
      ]
    },
    {
      "cell_type": "code",
      "execution_count": 9,
      "id": "d562e667-4ff8-454e-8706-9d4d87cbef9d",
      "metadata": {
        "execution": {
          "iopub.execute_input": "2022-03-16T13:01:10.874378Z",
          "iopub.status.busy": "2022-03-16T13:01:10.874082Z",
          "iopub.status.idle": "2022-03-16T13:01:10.890789Z",
          "shell.execute_reply": "2022-03-16T13:01:10.890126Z",
          "shell.execute_reply.started": "2022-03-16T13:01:10.874351Z"
        },
        "tags": [],
        "colab": {
          "base_uri": "https://localhost:8080/"
        },
        "id": "d562e667-4ff8-454e-8706-9d4d87cbef9d",
        "outputId": "e497d113-cebb-4c8e-b99a-c39944200068"
      },
      "outputs": [
        {
          "output_type": "execute_result",
          "data": {
            "text/plain": [
              "No     110316\n",
              "Yes     31877\n",
              "Name: RainTomorrow, dtype: int64"
            ]
          },
          "metadata": {},
          "execution_count": 9
        }
      ],
      "source": [
        "df[model_target].value_counts() # we have an unbalanced data set"
      ]
    },
    {
      "cell_type": "code",
      "execution_count": 10,
      "id": "1b35337f-9335-4315-b5f7-62014238409a",
      "metadata": {
        "execution": {
          "iopub.execute_input": "2022-03-16T13:02:35.915990Z",
          "iopub.status.busy": "2022-03-16T13:02:35.915693Z",
          "iopub.status.idle": "2022-03-16T13:02:36.027735Z",
          "shell.execute_reply": "2022-03-16T13:02:36.027094Z",
          "shell.execute_reply.started": "2022-03-16T13:02:35.915950Z"
        },
        "tags": [],
        "id": "1b35337f-9335-4315-b5f7-62014238409a",
        "outputId": "7f8f6285-19d4-484a-bdae-c6c706cb7192",
        "colab": {
          "base_uri": "https://localhost:8080/",
          "height": 289
        }
      },
      "outputs": [
        {
          "output_type": "execute_result",
          "data": {
            "text/plain": [
              "<function matplotlib.pyplot.show>"
            ]
          },
          "metadata": {},
          "execution_count": 10
        },
        {
          "output_type": "display_data",
          "data": {
            "text/plain": [
              "<Figure size 432x288 with 1 Axes>"
            ],
            "image/png": "[encoded data removed]"
          },
          "metadata": {
            "needs_background": "light"
          }
        }
      ],
      "source": [
        "%matplotlib inline\n",
        "\n",
        "df[model_target].value_counts().plot.bar()\n",
        "plt.show"
      ]
    },
    {
      "cell_type": "code",
      "execution_count": 11,
      "id": "afdf90b5-80e2-4162-919e-39d26388dde7",
      "metadata": {
        "execution": {
          "iopub.execute_input": "2022-03-16T13:16:08.290579Z",
          "iopub.status.busy": "2022-03-16T13:16:08.290294Z",
          "iopub.status.idle": "2022-03-16T13:16:08.830808Z",
          "shell.execute_reply": "2022-03-16T13:16:08.829782Z",
          "shell.execute_reply.started": "2022-03-16T13:16:08.290553Z"
        },
        "tags": [],
        "id": "afdf90b5-80e2-4162-919e-39d26388dde7",
        "colab": {
          "base_uri": "https://localhost:8080/",
          "height": 1000
        },
        "outputId": "e365c901-1151-454b-ee72-7ad634dcb95e"
      },
      "outputs": [
        {
          "output_type": "stream",
          "name": "stdout",
          "text": [
            "WindGustDir\n"
          ]
        },
        {
          "output_type": "display_data",
          "data": {
            "text/plain": [
              "<Figure size 432x288 with 1 Axes>"
            ],
            "image/png": "[encoded data removed]"
          },
          "metadata": {
            "needs_background": "light"
          }
        },
        {
          "output_type": "stream",
          "name": "stdout",
          "text": [
            "WindDir9am\n"
          ]
        },
        {
          "output_type": "display_data",
          "data": {
            "text/plain": [
              "<Figure size 432x288 with 1 Axes>"
            ],
            "image/png": "[encoded data removed]"
          },
          "metadata": {
            "needs_background": "light"
          }
        },
        {
          "output_type": "stream",
          "name": "stdout",
          "text": [
            "WindDir3pm\n"
          ]
        },
        {
          "output_type": "display_data",
          "data": {
            "text/plain": [
              "<Figure size 432x288 with 1 Axes>"
            ],
            "image/png": "[encoded data removed]"
          },
          "metadata": {
            "needs_background": "light"
          }
        },
        {
          "output_type": "stream",
          "name": "stdout",
          "text": [
            "RainToday\n"
          ]
        },
        {
          "output_type": "error",
          "ename": "KeyError",
          "evalue": "ignored",
          "traceback": [
            "\u001b[0;31m---------------------------------------------------------------------------\u001b[0m",
            "\u001b[0;31mKeyError\u001b[0m                                  Traceback (most recent call last)",
            "\u001b[0;32m<ipython-input-11-ad30b3bde70e>\u001b[0m in \u001b[0;36m<module>\u001b[0;34m()\u001b[0m\n\u001b[1;32m     11\u001b[0m     \u001b[0;32mif\u001b[0m \u001b[0mlen\u001b[0m\u001b[0;34m(\u001b[0m\u001b[0mdf\u001b[0m\u001b[0;34m[\u001b[0m\u001b[0mc\u001b[0m\u001b[0;34m]\u001b[0m\u001b[0;34m.\u001b[0m\u001b[0mvalue_counts\u001b[0m\u001b[0;34m(\u001b[0m\u001b[0;34m)\u001b[0m\u001b[0;34m)\u001b[0m \u001b[0;34m<\u001b[0m \u001b[0;36m20\u001b[0m\u001b[0;34m:\u001b[0m\u001b[0;34m\u001b[0m\u001b[0;34m\u001b[0m\u001b[0m\n\u001b[1;32m     12\u001b[0m         \u001b[0mprint\u001b[0m\u001b[0;34m(\u001b[0m\u001b[0mc\u001b[0m\u001b[0;34m)\u001b[0m\u001b[0;34m\u001b[0m\u001b[0;34m\u001b[0m\u001b[0m\n\u001b[0;32m---> 13\u001b[0;31m         \u001b[0mdf\u001b[0m\u001b[0;34m[\u001b[0m\u001b[0mc\u001b[0m\u001b[0;34m]\u001b[0m\u001b[0;34m.\u001b[0m\u001b[0mvalue_counts\u001b[0m\u001b[0;34m(\u001b[0m\u001b[0;34m)\u001b[0m\u001b[0;34m.\u001b[0m\u001b[0mloc\u001b[0m\u001b[0;34m[\u001b[0m\u001b[0mcompass_order\u001b[0m\u001b[0;34m]\u001b[0m\u001b[0;34m.\u001b[0m\u001b[0mplot\u001b[0m\u001b[0;34m.\u001b[0m\u001b[0mbar\u001b[0m\u001b[0;34m(\u001b[0m\u001b[0;34m)\u001b[0m\u001b[0;34m\u001b[0m\u001b[0;34m\u001b[0m\u001b[0m\n\u001b[0m\u001b[1;32m     14\u001b[0m         \u001b[0mplt\u001b[0m\u001b[0;34m.\u001b[0m\u001b[0mshow\u001b[0m\u001b[0;34m(\u001b[0m\u001b[0;34m)\u001b[0m\u001b[0;34m\u001b[0m\u001b[0;34m\u001b[0m\u001b[0m\n",
            "\u001b[0;32m/usr/local/lib/python3.7/dist-packages/pandas/core/indexing.py\u001b[0m in \u001b[0;36m__getitem__\u001b[0;34m(self, key)\u001b[0m\n\u001b[1;32m    929\u001b[0m \u001b[0;34m\u001b[0m\u001b[0m\n\u001b[1;32m    930\u001b[0m             \u001b[0mmaybe_callable\u001b[0m \u001b[0;34m=\u001b[0m \u001b[0mcom\u001b[0m\u001b[0;34m.\u001b[0m\u001b[0mapply_if_callable\u001b[0m\u001b[0;34m(\u001b[0m\u001b[0mkey\u001b[0m\u001b[0;34m,\u001b[0m \u001b[0mself\u001b[0m\u001b[0;34m.\u001b[0m\u001b[0mobj\u001b[0m\u001b[0;34m)\u001b[0m\u001b[0;34m\u001b[0m\u001b[0;34m\u001b[0m\u001b[0m\n\u001b[0;32m--> 931\u001b[0;31m             \u001b[0;32mreturn\u001b[0m \u001b[0mself\u001b[0m\u001b[0;34m.\u001b[0m\u001b[0m_getitem_axis\u001b[0m\u001b[0;34m(\u001b[0m\u001b[0mmaybe_callable\u001b[0m\u001b[0;34m,\u001b[0m \u001b[0maxis\u001b[0m\u001b[0;34m=\u001b[0m\u001b[0maxis\u001b[0m\u001b[0;34m)\u001b[0m\u001b[0;34m\u001b[0m\u001b[0;34m\u001b[0m\u001b[0m\n\u001b[0m\u001b[1;32m    932\u001b[0m \u001b[0;34m\u001b[0m\u001b[0m\n\u001b[1;32m    933\u001b[0m     \u001b[0;32mdef\u001b[0m \u001b[0m_is_scalar_access\u001b[0m\u001b[0;34m(\u001b[0m\u001b[0mself\u001b[0m\u001b[0;34m,\u001b[0m \u001b[0mkey\u001b[0m\u001b[0;34m:\u001b[0m \u001b[0mtuple\u001b[0m\u001b[0;34m)\u001b[0m\u001b[0;34m:\u001b[0m\u001b[0;34m\u001b[0m\u001b[0;34m\u001b[0m\u001b[0m\n",
            "\u001b[0;32m/usr/local/lib/python3.7/dist-packages/pandas/core/indexing.py\u001b[0m in \u001b[0;36m_getitem_axis\u001b[0;34m(self, key, axis)\u001b[0m\n\u001b[1;32m   1151\u001b[0m                     \u001b[0;32mraise\u001b[0m \u001b[0mValueError\u001b[0m\u001b[0;34m(\u001b[0m\u001b[0;34m\"Cannot index with multidimensional key\"\u001b[0m\u001b[0;34m)\u001b[0m\u001b[0;34m\u001b[0m\u001b[0;34m\u001b[0m\u001b[0m\n\u001b[1;32m   1152\u001b[0m \u001b[0;34m\u001b[0m\u001b[0m\n\u001b[0;32m-> 1153\u001b[0;31m                 \u001b[0;32mreturn\u001b[0m \u001b[0mself\u001b[0m\u001b[0;34m.\u001b[0m\u001b[0m_getitem_iterable\u001b[0m\u001b[0;34m(\u001b[0m\u001b[0mkey\u001b[0m\u001b[0;34m,\u001b[0m \u001b[0maxis\u001b[0m\u001b[0;34m=\u001b[0m\u001b[0maxis\u001b[0m\u001b[0;34m)\u001b[0m\u001b[0;34m\u001b[0m\u001b[0;34m\u001b[0m\u001b[0m\n\u001b[0m\u001b[1;32m   1154\u001b[0m \u001b[0;34m\u001b[0m\u001b[0m\n\u001b[1;32m   1155\u001b[0m             \u001b[0;31m# nested tuple slicing\u001b[0m\u001b[0;34m\u001b[0m\u001b[0;34m\u001b[0m\u001b[0;34m\u001b[0m\u001b[0m\n",
            "\u001b[0;32m/usr/local/lib/python3.7/dist-packages/pandas/core/indexing.py\u001b[0m in \u001b[0;36m_getitem_iterable\u001b[0;34m(self, key, axis)\u001b[0m\n\u001b[1;32m   1091\u001b[0m \u001b[0;34m\u001b[0m\u001b[0m\n\u001b[1;32m   1092\u001b[0m         \u001b[0;31m# A collection of keys\u001b[0m\u001b[0;34m\u001b[0m\u001b[0;34m\u001b[0m\u001b[0;34m\u001b[0m\u001b[0m\n\u001b[0;32m-> 1093\u001b[0;31m         \u001b[0mkeyarr\u001b[0m\u001b[0;34m,\u001b[0m \u001b[0mindexer\u001b[0m \u001b[0;34m=\u001b[0m \u001b[0mself\u001b[0m\u001b[0;34m.\u001b[0m\u001b[0m_get_listlike_indexer\u001b[0m\u001b[0;34m(\u001b[0m\u001b[0mkey\u001b[0m\u001b[0;34m,\u001b[0m \u001b[0maxis\u001b[0m\u001b[0;34m)\u001b[0m\u001b[0;34m\u001b[0m\u001b[0;34m\u001b[0m\u001b[0m\n\u001b[0m\u001b[1;32m   1094\u001b[0m         return self.obj._reindex_with_indexers(\n\u001b[1;32m   1095\u001b[0m             \u001b[0;34m{\u001b[0m\u001b[0maxis\u001b[0m\u001b[0;34m:\u001b[0m \u001b[0;34m[\u001b[0m\u001b[0mkeyarr\u001b[0m\u001b[0;34m,\u001b[0m \u001b[0mindexer\u001b[0m\u001b[0;34m]\u001b[0m\u001b[0;34m}\u001b[0m\u001b[0;34m,\u001b[0m \u001b[0mcopy\u001b[0m\u001b[0;34m=\u001b[0m\u001b[0;32mTrue\u001b[0m\u001b[0;34m,\u001b[0m \u001b[0mallow_dups\u001b[0m\u001b[0;34m=\u001b[0m\u001b[0;32mTrue\u001b[0m\u001b[0;34m\u001b[0m\u001b[0;34m\u001b[0m\u001b[0m\n",
            "\u001b[0;32m/usr/local/lib/python3.7/dist-packages/pandas/core/indexing.py\u001b[0m in \u001b[0;36m_get_listlike_indexer\u001b[0;34m(self, key, axis)\u001b[0m\n\u001b[1;32m   1312\u001b[0m             \u001b[0mkeyarr\u001b[0m\u001b[0;34m,\u001b[0m \u001b[0mindexer\u001b[0m\u001b[0;34m,\u001b[0m \u001b[0mnew_indexer\u001b[0m \u001b[0;34m=\u001b[0m \u001b[0max\u001b[0m\u001b[0;34m.\u001b[0m\u001b[0m_reindex_non_unique\u001b[0m\u001b[0;34m(\u001b[0m\u001b[0mkeyarr\u001b[0m\u001b[0;34m)\u001b[0m\u001b[0;34m\u001b[0m\u001b[0;34m\u001b[0m\u001b[0m\n\u001b[1;32m   1313\u001b[0m \u001b[0;34m\u001b[0m\u001b[0m\n\u001b[0;32m-> 1314\u001b[0;31m         \u001b[0mself\u001b[0m\u001b[0;34m.\u001b[0m\u001b[0m_validate_read_indexer\u001b[0m\u001b[0;34m(\u001b[0m\u001b[0mkeyarr\u001b[0m\u001b[0;34m,\u001b[0m \u001b[0mindexer\u001b[0m\u001b[0;34m,\u001b[0m \u001b[0maxis\u001b[0m\u001b[0;34m)\u001b[0m\u001b[0;34m\u001b[0m\u001b[0;34m\u001b[0m\u001b[0m\n\u001b[0m\u001b[1;32m   1315\u001b[0m \u001b[0;34m\u001b[0m\u001b[0m\n\u001b[1;32m   1316\u001b[0m         if needs_i8_conversion(ax.dtype) or isinstance(\n",
            "\u001b[0;32m/usr/local/lib/python3.7/dist-packages/pandas/core/indexing.py\u001b[0m in \u001b[0;36m_validate_read_indexer\u001b[0;34m(self, key, indexer, axis)\u001b[0m\n\u001b[1;32m   1372\u001b[0m                 \u001b[0;32mif\u001b[0m \u001b[0muse_interval_msg\u001b[0m\u001b[0;34m:\u001b[0m\u001b[0;34m\u001b[0m\u001b[0;34m\u001b[0m\u001b[0m\n\u001b[1;32m   1373\u001b[0m                     \u001b[0mkey\u001b[0m \u001b[0;34m=\u001b[0m \u001b[0mlist\u001b[0m\u001b[0;34m(\u001b[0m\u001b[0mkey\u001b[0m\u001b[0;34m)\u001b[0m\u001b[0;34m\u001b[0m\u001b[0;34m\u001b[0m\u001b[0m\n\u001b[0;32m-> 1374\u001b[0;31m                 \u001b[0;32mraise\u001b[0m \u001b[0mKeyError\u001b[0m\u001b[0;34m(\u001b[0m\u001b[0;34mf\"None of [{key}] are in the [{axis_name}]\"\u001b[0m\u001b[0;34m)\u001b[0m\u001b[0;34m\u001b[0m\u001b[0;34m\u001b[0m\u001b[0m\n\u001b[0m\u001b[1;32m   1375\u001b[0m \u001b[0;34m\u001b[0m\u001b[0m\n\u001b[1;32m   1376\u001b[0m             \u001b[0mnot_found\u001b[0m \u001b[0;34m=\u001b[0m \u001b[0mlist\u001b[0m\u001b[0;34m(\u001b[0m\u001b[0mensure_index\u001b[0m\u001b[0;34m(\u001b[0m\u001b[0mkey\u001b[0m\u001b[0;34m)\u001b[0m\u001b[0;34m[\u001b[0m\u001b[0mmissing_mask\u001b[0m\u001b[0;34m.\u001b[0m\u001b[0mnonzero\u001b[0m\u001b[0;34m(\u001b[0m\u001b[0;34m)\u001b[0m\u001b[0;34m[\u001b[0m\u001b[0;36m0\u001b[0m\u001b[0;34m]\u001b[0m\u001b[0;34m]\u001b[0m\u001b[0;34m.\u001b[0m\u001b[0munique\u001b[0m\u001b[0;34m(\u001b[0m\u001b[0;34m)\u001b[0m\u001b[0;34m)\u001b[0m\u001b[0;34m\u001b[0m\u001b[0;34m\u001b[0m\u001b[0m\n",
            "\u001b[0;31mKeyError\u001b[0m: \"None of [Index(['N', 'NNE', 'NE', 'ENE', 'SE', 'SSE', 'S', 'SSW', 'SW', 'WSW', 'NW',\\n       'NNW'],\\n      dtype='object')] are in the [index]\""
          ]
        }
      ],
      "source": [
        "# We can visualise plots for varibles that have less than 20 levels\n",
        "#for c in factor_features_full:\n",
        "#    if len(df[c].value_counts()) < 20:\n",
        "#        print(c)\n",
        "#        df[c].value_counts().plot.bar()\n",
        "#        plt.show()\n",
        "# these visualisations of the direction are not informative until the x axis is the same throughout.\n",
        "compass_order = [\"N\", \"NNE\", \"NE\", \"ENE\", \"SE\", \"SSE\", \"S\", \"SSW\", \"SW\", \"WSW\", \"NW\", \"NNW\"] # this wont show the RaintToday plot\n",
        "\n",
        "for c in factor_features_full:\n",
        "    if len(df[c].value_counts()) < 20:\n",
        "        print(c)\n",
        "        df[c].value_counts().loc[compass_order].plot.bar()\n",
        "        plt.show()"
      ]
    },
    {
      "cell_type": "code",
      "execution_count": 12,
      "id": "57fa1882-dcbf-4103-82c5-61128c69e891",
      "metadata": {
        "execution": {
          "iopub.execute_input": "2022-03-16T13:18:28.300211Z",
          "iopub.status.busy": "2022-03-16T13:18:28.299933Z",
          "iopub.status.idle": "2022-03-16T13:18:28.408421Z",
          "shell.execute_reply": "2022-03-16T13:18:28.407747Z",
          "shell.execute_reply.started": "2022-03-16T13:18:28.300184Z"
        },
        "tags": [],
        "colab": {
          "base_uri": "https://localhost:8080/",
          "height": 289
        },
        "id": "57fa1882-dcbf-4103-82c5-61128c69e891",
        "outputId": "02b52945-d951-495d-80fe-34b335476dce"
      },
      "outputs": [
        {
          "output_type": "execute_result",
          "data": {
            "text/plain": [
              "<matplotlib.axes._subplots.AxesSubplot at 0x7f647442e990>"
            ]
          },
          "metadata": {},
          "execution_count": 12
        },
        {
          "output_type": "display_data",
          "data": {
            "text/plain": [
              "<Figure size 432x288 with 1 Axes>"
            ],
            "image/png": "[encoded data removed]"
          },
          "metadata": {
            "needs_background": "light"
          }
        }
      ],
      "source": [
        "df['RainToday'].value_counts().plot.bar()"
      ]
    },
    {
      "cell_type": "code",
      "execution_count": 13,
      "id": "b000361a-bb50-41aa-8a17-0e5fa50acaa7",
      "metadata": {
        "execution": {
          "iopub.execute_input": "2022-03-16T13:19:45.554159Z",
          "iopub.status.busy": "2022-03-16T13:19:45.553878Z",
          "iopub.status.idle": "2022-03-16T13:19:47.698806Z",
          "shell.execute_reply": "2022-03-16T13:19:47.698247Z",
          "shell.execute_reply.started": "2022-03-16T13:19:45.554132Z"
        },
        "tags": [],
        "colab": {
          "base_uri": "https://localhost:8080/",
          "height": 1000
        },
        "id": "b000361a-bb50-41aa-8a17-0e5fa50acaa7",
        "outputId": "3c99a2d8-c71b-4a25-e0c9-5aab35f71883"
      },
      "outputs": [
        {
          "output_type": "stream",
          "name": "stdout",
          "text": [
            "MinTemp\n"
          ]
        },
        {
          "output_type": "display_data",
          "data": {
            "text/plain": [
              "<Figure size 432x288 with 1 Axes>"
            ],
            "image/png": "[encoded data removed]"
          },
          "metadata": {
            "needs_background": "light"
          }
        },
        {
          "output_type": "stream",
          "name": "stdout",
          "text": [
            "MaxTemp\n"
          ]
        },
        {
          "output_type": "display_data",
          "data": {
            "text/plain": [
              "<Figure size 432x288 with 1 Axes>"
            ],
            "image/png": "[encoded data removed]"
          },
          "metadata": {
            "needs_background": "light"
          }
        },
        {
          "output_type": "stream",
          "name": "stdout",
          "text": [
            "Rainfall\n"
          ]
        },
        {
          "output_type": "display_data",
          "data": {
            "text/plain": [
              "<Figure size 432x288 with 1 Axes>"
            ],
            "image/png": "[encoded data removed]"
          },
          "metadata": {
            "needs_background": "light"
          }
        },
        {
          "output_type": "stream",
          "name": "stdout",
          "text": [
            "Evaporation\n"
          ]
        },
        {
          "output_type": "display_data",
          "data": {
            "text/plain": [
              "<Figure size 432x288 with 1 Axes>"
            ],
            "image/png": "[encoded data removed]"
          },
          "metadata": {
            "needs_background": "light"
          }
        },
        {
          "output_type": "stream",
          "name": "stdout",
          "text": [
            "Sunshine\n"
          ]
        },
        {
          "output_type": "display_data",
          "data": {
            "text/plain": [
              "<Figure size 432x288 with 1 Axes>"
            ],
            "image/png": "[encoded data removed]"
          },
          "metadata": {
            "needs_background": "light"
          }
        },
        {
          "output_type": "stream",
          "name": "stdout",
          "text": [
            "WindGustSpeed\n"
          ]
        },
        {
          "output_type": "display_data",
          "data": {
            "text/plain": [
              "<Figure size 432x288 with 1 Axes>"
            ],
            "image/png": "[encoded data removed]"
          },
          "metadata": {
            "needs_background": "light"
          }
        },
        {
          "output_type": "stream",
          "name": "stdout",
          "text": [
            "WindSpeed9am\n"
          ]
        },
        {
          "output_type": "display_data",
          "data": {
            "text/plain": [
              "<Figure size 432x288 with 1 Axes>"
            ],
            "image/png": "[encoded data removed]"
          },
          "metadata": {
            "needs_background": "light"
          }
        },
        {
          "output_type": "stream",
          "name": "stdout",
          "text": [
            "WindSpeed3pm\n"
          ]
        },
        {
          "output_type": "display_data",
          "data": {
            "text/plain": [
              "<Figure size 432x288 with 1 Axes>"
            ],
            "image/png": "[encoded data removed]"
          },
          "metadata": {
            "needs_background": "light"
          }
        },
        {
          "output_type": "stream",
          "name": "stdout",
          "text": [
            "Humidity9am\n"
          ]
        },
        {
          "output_type": "display_data",
          "data": {
            "text/plain": [
              "<Figure size 432x288 with 1 Axes>"
            ],
            "image/png": "[encoded data removed]"
          },
          "metadata": {
            "needs_background": "light"
          }
        },
        {
          "output_type": "stream",
          "name": "stdout",
          "text": [
            "Humidity3pm\n"
          ]
        },
        {
          "output_type": "display_data",
          "data": {
            "text/plain": [
              "<Figure size 432x288 with 1 Axes>"
            ],
            "image/png": "[encoded data removed]"
          },
          "metadata": {
            "needs_background": "light"
          }
        },
        {
          "output_type": "stream",
          "name": "stdout",
          "text": [
            "Pressure9am\n"
          ]
        },
        {
          "output_type": "display_data",
          "data": {
            "text/plain": [
              "<Figure size 432x288 with 1 Axes>"
            ],
            "image/png": "[encoded data removed]"
          },
          "metadata": {
            "needs_background": "light"
          }
        },
        {
          "output_type": "stream",
          "name": "stdout",
          "text": [
            "Pressure3pm\n"
          ]
        },
        {
          "output_type": "display_data",
          "data": {
            "text/plain": [
              "<Figure size 432x288 with 1 Axes>"
            ],
            "image/png": "[encoded data removed]"
          },
          "metadata": {
            "needs_background": "light"
          }
        },
        {
          "output_type": "stream",
          "name": "stdout",
          "text": [
            "Cloud9am\n"
          ]
        },
        {
          "output_type": "display_data",
          "data": {
            "text/plain": [
              "<Figure size 432x288 with 1 Axes>"
            ],
            "image/png": "[encoded data removed]"
          },
          "metadata": {
            "needs_background": "light"
          }
        },
        {
          "output_type": "stream",
          "name": "stdout",
          "text": [
            "Cloud3pm\n"
          ]
        },
        {
          "output_type": "display_data",
          "data": {
            "text/plain": [
              "<Figure size 432x288 with 1 Axes>"
            ],
            "image/png": "[encoded data removed]"
          },
          "metadata": {
            "needs_background": "light"
          }
        },
        {
          "output_type": "stream",
          "name": "stdout",
          "text": [
            "Temp9am\n"
          ]
        },
        {
          "output_type": "display_data",
          "data": {
            "text/plain": [
              "<Figure size 432x288 with 1 Axes>"
            ],
            "image/png": "[encoded data removed]"
          },
          "metadata": {
            "needs_background": "light"
          }
        },
        {
          "output_type": "stream",
          "name": "stdout",
          "text": [
            "Temp3pm\n"
          ]
        },
        {
          "output_type": "display_data",
          "data": {
            "text/plain": [
              "<Figure size 432x288 with 1 Axes>"
            ],
            "image/png": "[encoded data removed]"
          },
          "metadata": {
            "needs_background": "light"
          }
        }
      ],
      "source": [
        "# plot the numerical data as histograms\n",
        "for c in numerical_features_full:\n",
        "    print(c)\n",
        "    df[c].plot.hist(bins=10)\n",
        "    plt.show()"
      ]
    },
    {
      "cell_type": "code",
      "execution_count": null,
      "id": "9fffa2de-1526-4073-b191-11c034976e10",
      "metadata": {
        "id": "9fffa2de-1526-4073-b191-11c034976e10"
      },
      "outputs": [],
      "source": [
        "# correlations"
      ]
    },
    {
      "cell_type": "code",
      "execution_count": 14,
      "id": "29fad4f4-d5b6-4bbd-b484-0058652c6852",
      "metadata": {
        "execution": {
          "iopub.execute_input": "2022-03-16T14:14:56.992552Z",
          "iopub.status.busy": "2022-03-16T14:14:56.992243Z",
          "iopub.status.idle": "2022-03-16T14:14:57.593992Z",
          "shell.execute_reply": "2022-03-16T14:14:57.593405Z",
          "shell.execute_reply.started": "2022-03-16T14:14:56.992524Z"
        },
        "tags": [],
        "colab": {
          "base_uri": "https://localhost:8080/",
          "height": 1000
        },
        "id": "29fad4f4-d5b6-4bbd-b484-0058652c6852",
        "outputId": "1ad129b4-cd24-449a-9b67-f7d28467f5d8"
      },
      "outputs": [
        {
          "output_type": "stream",
          "name": "stderr",
          "text": [
            "/usr/local/lib/python3.7/dist-packages/ipykernel_launcher.py:4: DeprecationWarning: `np.bool` is a deprecated alias for the builtin `bool`. To silence this warning, use `bool` by itself. Doing this will not modify any behavior and is safe. If you specifically wanted the numpy scalar type, use `np.bool_` here.\n",
            "Deprecated in NumPy 1.20; for more details and guidance: https://numpy.org/devdocs/release/1.20.0-notes.html#deprecations\n",
            "  after removing the cwd from sys.path.\n"
          ]
        },
        {
          "output_type": "execute_result",
          "data": {
            "text/plain": [
              "<matplotlib.axes._subplots.AxesSubplot at 0x7f6473fd86d0>"
            ]
          },
          "metadata": {},
          "execution_count": 14
        },
        {
          "output_type": "display_data",
          "data": {
            "text/plain": [
              "<Figure size 1656x1656 with 2 Axes>"
            ],
            "image/png": "[encoded data removed]"
          },
          "metadata": {
            "needs_background": "light"
          }
        }
      ],
      "source": [
        "# Correlation heatmap\n",
        "\n",
        "corr = df.corr()\n",
        "mask = np.triu(np.ones_like(corr, dtype = np.bool))\n",
        "\n",
        "f, ax = plt.subplots(figsize= (23,23))\n",
        "\n",
        "cmap = sns.diverging_palette(220, 10,as_cmap=True)\n",
        "\n",
        "sns.heatmap(corr, mask = mask, cmap = cmap, vmax= .3, center = 0,\n",
        "            square = True, linewidth = .5, cbar_kws = {\"shrink\": .5})"
      ]
    },
    {
      "cell_type": "code",
      "execution_count": null,
      "id": "515df873-de58-41a0-a265-b8d439b576df",
      "metadata": {
        "id": "515df873-de58-41a0-a265-b8d439b576df"
      },
      "outputs": [],
      "source": [
        "# NA values need sorting, if they are in the dependent variable \"RainTomorrow\" they need removing"
      ]
    },
    {
      "cell_type": "code",
      "execution_count": 15,
      "id": "d8550ec1-f472-48cd-ae69-c8a0e4cc90f4",
      "metadata": {
        "execution": {
          "iopub.execute_input": "2022-03-16T15:22:49.448489Z",
          "iopub.status.busy": "2022-03-16T15:22:49.448206Z",
          "iopub.status.idle": "2022-03-16T15:22:49.524167Z",
          "shell.execute_reply": "2022-03-16T15:22:49.523544Z",
          "shell.execute_reply.started": "2022-03-16T15:22:49.448462Z"
        },
        "tags": [],
        "colab": {
          "base_uri": "https://localhost:8080/"
        },
        "id": "d8550ec1-f472-48cd-ae69-c8a0e4cc90f4",
        "outputId": "a653aa29-13a0-422d-8f20-1a2ffd61ba10"
      },
      "outputs": [
        {
          "output_type": "execute_result",
          "data": {
            "text/plain": [
              "Date                 0\n",
              "Location             0\n",
              "MinTemp           1485\n",
              "MaxTemp           1261\n",
              "Rainfall          3261\n",
              "Evaporation      62790\n",
              "Sunshine         69835\n",
              "WindGustDir      10326\n",
              "WindGustSpeed    10263\n",
              "WindDir9am       10566\n",
              "WindDir3pm        4228\n",
              "WindSpeed9am      1767\n",
              "WindSpeed3pm      3062\n",
              "Humidity9am       2654\n",
              "Humidity3pm       4507\n",
              "Pressure9am      15065\n",
              "Pressure3pm      15028\n",
              "Cloud9am         55888\n",
              "Cloud3pm         59358\n",
              "Temp9am           1767\n",
              "Temp3pm           3609\n",
              "RainToday         3261\n",
              "RainTomorrow      3267\n",
              "dtype: int64"
            ]
          },
          "metadata": {},
          "execution_count": 15
        }
      ],
      "source": [
        "df.isna().sum()\n",
        "# we can see that there are missing values in all of the varibles, but for the moment we will remove just the dependant variable NA's"
      ]
    },
    {
      "cell_type": "code",
      "execution_count": 16,
      "id": "e904939a-dd41-4eef-94e8-3051af643529",
      "metadata": {
        "execution": {
          "iopub.execute_input": "2022-03-16T15:31:07.930312Z",
          "iopub.status.busy": "2022-03-16T15:31:07.930008Z",
          "iopub.status.idle": "2022-03-16T15:31:08.003751Z",
          "shell.execute_reply": "2022-03-16T15:31:08.003023Z",
          "shell.execute_reply.started": "2022-03-16T15:31:07.930283Z"
        },
        "tags": [],
        "colab": {
          "base_uri": "https://localhost:8080/"
        },
        "id": "e904939a-dd41-4eef-94e8-3051af643529",
        "outputId": "f941ef90-0516-4fff-f209-bf7e8f42da63"
      },
      "outputs": [
        {
          "output_type": "execute_result",
          "data": {
            "text/plain": [
              "Date                 0\n",
              "Location             0\n",
              "MinTemp            637\n",
              "MaxTemp            322\n",
              "Rainfall          1406\n",
              "Evaporation      60843\n",
              "Sunshine         67816\n",
              "WindGustDir       9330\n",
              "WindGustSpeed     9270\n",
              "WindDir9am       10013\n",
              "WindDir3pm        3778\n",
              "WindSpeed9am      1348\n",
              "WindSpeed3pm      2630\n",
              "Humidity9am       1774\n",
              "Humidity3pm       3610\n",
              "Pressure9am      14014\n",
              "Pressure3pm      13981\n",
              "Cloud9am         53657\n",
              "Cloud3pm         57094\n",
              "Temp9am            904\n",
              "Temp3pm           2726\n",
              "RainToday         1406\n",
              "RainTomorrow         0\n",
              "dtype: int64"
            ]
          },
          "metadata": {},
          "execution_count": 16
        }
      ],
      "source": [
        "df_NA = df.dropna(subset=[\"RainTomorrow\"])\n",
        "# run the code from line 53 again to check if this has removed the values\n",
        "df_NA.isna().sum()"
      ]
    },
    {
      "cell_type": "code",
      "execution_count": 17,
      "id": "e08cb74d-d745-4451-862b-1164274a0d6b",
      "metadata": {
        "execution": {
          "iopub.execute_input": "2022-03-16T15:32:23.756125Z",
          "iopub.status.busy": "2022-03-16T15:32:23.755816Z",
          "iopub.status.idle": "2022-03-16T15:32:23.761960Z",
          "shell.execute_reply": "2022-03-16T15:32:23.761116Z",
          "shell.execute_reply.started": "2022-03-16T15:32:23.756088Z"
        },
        "tags": [],
        "colab": {
          "base_uri": "https://localhost:8080/"
        },
        "id": "e08cb74d-d745-4451-862b-1164274a0d6b",
        "outputId": "32975837-ac6a-478d-cc1c-e71e1a177309"
      },
      "outputs": [
        {
          "output_type": "execute_result",
          "data": {
            "text/plain": [
              "(142193, 23)"
            ]
          },
          "metadata": {},
          "execution_count": 17
        }
      ],
      "source": [
        "# we will also check that the rows have been removed. We expect to see 142,193 total observations\n",
        "df_NA.shape\n",
        "# this is correct."
      ]
    },
    {
      "cell_type": "code",
      "execution_count": 18,
      "id": "60018bf0-0f30-4cd2-815d-990ff29e4e70",
      "metadata": {
        "execution": {
          "iopub.execute_input": "2022-03-16T15:55:16.093375Z",
          "iopub.status.busy": "2022-03-16T15:55:16.093070Z",
          "iopub.status.idle": "2022-03-16T15:55:16.145666Z",
          "shell.execute_reply": "2022-03-16T15:55:16.145062Z",
          "shell.execute_reply.started": "2022-03-16T15:55:16.093330Z"
        },
        "tags": [],
        "id": "60018bf0-0f30-4cd2-815d-990ff29e4e70"
      },
      "outputs": [],
      "source": [
        "# Our dependent variable is a factor of 2 levels (Categorical) so we will first run a KNN model to see what type of accuracy we achieve\n",
        "\n",
        "# We first need to split the data set into train:test:validate 80:10:10\n",
        "train_df, val_df, test_df = np.split(df_NA.sample(frac=1), [int(.80*len(df_NA)), int(.9*len(df_NA))])"
      ]
    },
    {
      "cell_type": "code",
      "execution_count": 19,
      "id": "a947fe98-0912-4b78-9f41-294217de93f5",
      "metadata": {
        "execution": {
          "iopub.execute_input": "2022-03-16T15:57:33.616415Z",
          "iopub.status.busy": "2022-03-16T15:57:33.616102Z",
          "iopub.status.idle": "2022-03-16T15:57:33.620963Z",
          "shell.execute_reply": "2022-03-16T15:57:33.620246Z",
          "shell.execute_reply.started": "2022-03-16T15:57:33.616384Z"
        },
        "tags": [],
        "colab": {
          "base_uri": "https://localhost:8080/"
        },
        "id": "a947fe98-0912-4b78-9f41-294217de93f5",
        "outputId": "0b12e2ba-6376-45e3-a696-1985b3fb5af3"
      },
      "outputs": [
        {
          "output_type": "stream",
          "name": "stdout",
          "text": [
            "(113754, 23)\n",
            "(14220, 23)\n",
            "(14219, 23)\n",
            "!!CORRECT!!\n"
          ]
        }
      ],
      "source": [
        "# Check that they contain what we expect 113754:14219:14219\n",
        "print(train_df.shape)\n",
        "print(test_df.shape)\n",
        "print(val_df.shape)\n",
        "print(\"!!CORRECT!!\")"
      ]
    },
    {
      "cell_type": "code",
      "execution_count": null,
      "id": "0f138c9a-9cd1-4e3d-a88f-5cd21b380a0b",
      "metadata": {
        "id": "0f138c9a-9cd1-4e3d-a88f-5cd21b380a0b"
      },
      "outputs": [],
      "source": [
        "# Data processing with pipeline (https://github.com/aws-samples/aws-machine-learning-university-accelerated-tab/blob/75e0dfea716b08b6566cfbc39d8c4824d4089b70/notebooks/MLA-TAB-DAY1-KNN.ipynb)"
      ]
    },
    {
      "cell_type": "code",
      "execution_count": 20,
      "id": "c627cdb4-0c4b-4cd9-a93a-6351e2a16e4f",
      "metadata": {
        "execution": {
          "iopub.execute_input": "2022-03-16T16:02:15.493036Z",
          "iopub.status.busy": "2022-03-16T16:02:15.492722Z",
          "iopub.status.idle": "2022-03-16T16:02:15.496631Z",
          "shell.execute_reply": "2022-03-16T16:02:15.495860Z",
          "shell.execute_reply.started": "2022-03-16T16:02:15.493008Z"
        },
        "tags": [],
        "id": "c627cdb4-0c4b-4cd9-a93a-6351e2a16e4f"
      },
      "outputs": [],
      "source": [
        "classifier = Pipeline([\n",
        "    ('imputer', SimpleImputer(strategy = 'mean')),\n",
        "    ('scaler', MinMaxScaler()),\n",
        "    ('estimator', KNeighborsClassifier(n_neighbors = 3))\n",
        "])"
      ]
    },
    {
      "cell_type": "code",
      "execution_count": 21,
      "id": "3f31e2ac-8918-476d-8d30-e90f27ba6568",
      "metadata": {
        "execution": {
          "iopub.execute_input": "2022-03-16T16:03:10.598194Z",
          "iopub.status.busy": "2022-03-16T16:03:10.597833Z",
          "iopub.status.idle": "2022-03-16T16:03:10.611572Z",
          "shell.execute_reply": "2022-03-16T16:03:10.610970Z",
          "shell.execute_reply.started": "2022-03-16T16:03:10.598160Z"
        },
        "tags": [],
        "colab": {
          "base_uri": "https://localhost:8080/",
          "height": 161
        },
        "id": "3f31e2ac-8918-476d-8d30-e90f27ba6568",
        "outputId": "6379bb0f-1e32-4fe5-b55a-8d5823148369"
      },
      "outputs": [
        {
          "output_type": "execute_result",
          "data": {
            "text/plain": [
              "Pipeline(steps=[('imputer', SimpleImputer()), ('scaler', MinMaxScaler()),\n",
              "                ('estimator', KNeighborsClassifier(n_neighbors=3))])"
            ],
            "text/html": [
              "<style>#sk-f92647d7-ed96-4161-8d58-f74e9560747c {color: black;background-color: white;}#sk-f92647d7-ed96-4161-8d58-f74e9560747c pre{padding: 0;}#sk-f92647d7-ed96-4161-8d58-f74e9560747c div.sk-toggleable {background-color: white;}#sk-f92647d7-ed96-4161-8d58-f74e9560747c label.sk-toggleable__label {cursor: pointer;display: block;width: 100%;margin-bottom: 0;padding: 0.3em;box-sizing: border-box;text-align: center;}#sk-f92647d7-ed96-4161-8d58-f74e9560747c label.sk-toggleable__label-arrow:before {content: \"▸\";float: left;margin-right: 0.25em;color: #696969;}#sk-f92647d7-ed96-4161-8d58-f74e9560747c label.sk-toggleable__label-arrow:hover:before {color: black;}#sk-f92647d7-ed96-4161-8d58-f74e9560747c div.sk-estimator:hover label.sk-toggleable__label-arrow:before {color: black;}#sk-f92647d7-ed96-4161-8d58-f74e9560747c div.sk-toggleable__content {max-height: 0;max-width: 0;overflow: hidden;text-align: left;background-color: #f0f8ff;}#sk-f92647d7-ed96-4161-8d58-f74e9560747c div.sk-toggleable__content pre {margin: 0.2em;color: black;border-radius: 0.25em;background-color: #f0f8ff;}#sk-f92647d7-ed96-4161-8d58-f74e9560747c input.sk-toggleable__control:checked~div.sk-toggleable__content {max-height: 200px;max-width: 100%;overflow: auto;}#sk-f92647d7-ed96-4161-8d58-f74e9560747c input.sk-toggleable__control:checked~label.sk-toggleable__label-arrow:before {content: \"▾\";}#sk-f92647d7-ed96-4161-8d58-f74e9560747c div.sk-estimator input.sk-toggleable__control:checked~label.sk-toggleable__label {background-color: #d4ebff;}#sk-f92647d7-ed96-4161-8d58-f74e9560747c div.sk-label input.sk-toggleable__control:checked~label.sk-toggleable__label {background-color: #d4ebff;}#sk-f92647d7-ed96-4161-8d58-f74e9560747c input.sk-hidden--visually {border: 0;clip: rect(1px 1px 1px 1px);clip: rect(1px, 1px, 1px, 1px);height: 1px;margin: -1px;overflow: hidden;padding: 0;position: absolute;width: 1px;}#sk-f92647d7-ed96-4161-8d58-f74e9560747c div.sk-estimator {font-family: monospace;background-color: #f0f8ff;border: 1px dotted black;border-radius: 0.25em;box-sizing: border-box;margin-bottom: 0.5em;}#sk-f92647d7-ed96-4161-8d58-f74e9560747c div.sk-estimator:hover {background-color: #d4ebff;}#sk-f92647d7-ed96-4161-8d58-f74e9560747c div.sk-parallel-item::after {content: \"\";width: 100%;border-bottom: 1px solid gray;flex-grow: 1;}#sk-f92647d7-ed96-4161-8d58-f74e9560747c div.sk-label:hover label.sk-toggleable__label {background-color: #d4ebff;}#sk-f92647d7-ed96-4161-8d58-f74e9560747c div.sk-serial::before {content: \"\";position: absolute;border-left: 1px solid gray;box-sizing: border-box;top: 2em;bottom: 0;left: 50%;}#sk-f92647d7-ed96-4161-8d58-f74e9560747c div.sk-serial {display: flex;flex-direction: column;align-items: center;background-color: white;padding-right: 0.2em;padding-left: 0.2em;}#sk-f92647d7-ed96-4161-8d58-f74e9560747c div.sk-item {z-index: 1;}#sk-f92647d7-ed96-4161-8d58-f74e9560747c div.sk-parallel {display: flex;align-items: stretch;justify-content: center;background-color: white;}#sk-f92647d7-ed96-4161-8d58-f74e9560747c div.sk-parallel::before {content: \"\";position: absolute;border-left: 1px solid gray;box-sizing: border-box;top: 2em;bottom: 0;left: 50%;}#sk-f92647d7-ed96-4161-8d58-f74e9560747c div.sk-parallel-item {display: flex;flex-direction: column;position: relative;background-color: white;}#sk-f92647d7-ed96-4161-8d58-f74e9560747c div.sk-parallel-item:first-child::after {align-self: flex-end;width: 50%;}#sk-f92647d7-ed96-4161-8d58-f74e9560747c div.sk-parallel-item:last-child::after {align-self: flex-start;width: 50%;}#sk-f92647d7-ed96-4161-8d58-f74e9560747c div.sk-parallel-item:only-child::after {width: 0;}#sk-f92647d7-ed96-4161-8d58-f74e9560747c div.sk-dashed-wrapped {border: 1px dashed gray;margin: 0 0.4em 0.5em 0.4em;box-sizing: border-box;padding-bottom: 0.4em;background-color: white;position: relative;}#sk-f92647d7-ed96-4161-8d58-f74e9560747c div.sk-label label {font-family: monospace;font-weight: bold;background-color: white;display: inline-block;line-height: 1.2em;}#sk-f92647d7-ed96-4161-8d58-f74e9560747c div.sk-label-container {position: relative;z-index: 2;text-align: center;}#sk-f92647d7-ed96-4161-8d58-f74e9560747c div.sk-container {/* jupyter's `normalize.less` sets `[hidden] { display: none; }` but bootstrap.min.css set `[hidden] { display: none !important; }` so we also need the `!important` here to be able to override the default hidden behavior on the sphinx rendered scikit-learn.org. See: https://github.com/scikit-learn/scikit-learn/issues/21755 */display: inline-block !important;position: relative;}#sk-f92647d7-ed96-4161-8d58-f74e9560747c div.sk-text-repr-fallback {display: none;}</style><div id=\"sk-f92647d7-ed96-4161-8d58-f74e9560747c\" class=\"sk-top-container\"><div class=\"sk-text-repr-fallback\"><pre>Pipeline(steps=[(&#x27;imputer&#x27;, SimpleImputer()), (&#x27;scaler&#x27;, MinMaxScaler()),\n",
              "                (&#x27;estimator&#x27;, KNeighborsClassifier(n_neighbors=3))])</pre><b>Please rerun this cell to show the HTML repr or trust the notebook.</b></div><div class=\"sk-container\" hidden><div class=\"sk-item sk-dashed-wrapped\"><div class=\"sk-label-container\"><div class=\"sk-label sk-toggleable\"><input class=\"sk-toggleable__control sk-hidden--visually\" id=\"c3af9dbb-c276-405a-a9ae-33b7e0e41120\" type=\"checkbox\" ><label for=\"c3af9dbb-c276-405a-a9ae-33b7e0e41120\" class=\"sk-toggleable__label sk-toggleable__label-arrow\">Pipeline</label><div class=\"sk-toggleable__content\"><pre>Pipeline(steps=[(&#x27;imputer&#x27;, SimpleImputer()), (&#x27;scaler&#x27;, MinMaxScaler()),\n",
              "                (&#x27;estimator&#x27;, KNeighborsClassifier(n_neighbors=3))])</pre></div></div></div><div class=\"sk-serial\"><div class=\"sk-item\"><div class=\"sk-estimator sk-toggleable\"><input class=\"sk-toggleable__control sk-hidden--visually\" id=\"f7a40195-3140-4ea2-a80e-f5b5a751f16f\" type=\"checkbox\" ><label for=\"f7a40195-3140-4ea2-a80e-f5b5a751f16f\" class=\"sk-toggleable__label sk-toggleable__label-arrow\">SimpleImputer</label><div class=\"sk-toggleable__content\"><pre>SimpleImputer()</pre></div></div></div><div class=\"sk-item\"><div class=\"sk-estimator sk-toggleable\"><input class=\"sk-toggleable__control sk-hidden--visually\" id=\"c4093ae3-c26c-440f-b475-d184426c651d\" type=\"checkbox\" ><label for=\"c4093ae3-c26c-440f-b475-d184426c651d\" class=\"sk-toggleable__label sk-toggleable__label-arrow\">MinMaxScaler</label><div class=\"sk-toggleable__content\"><pre>MinMaxScaler()</pre></div></div></div><div class=\"sk-item\"><div class=\"sk-estimator sk-toggleable\"><input class=\"sk-toggleable__control sk-hidden--visually\" id=\"16b4332e-cc00-47f6-ac2b-8ec369913a6b\" type=\"checkbox\" ><label for=\"16b4332e-cc00-47f6-ac2b-8ec369913a6b\" class=\"sk-toggleable__label sk-toggleable__label-arrow\">KNeighborsClassifier</label><div class=\"sk-toggleable__content\"><pre>KNeighborsClassifier(n_neighbors=3)</pre></div></div></div></div></div></div></div>"
            ]
          },
          "metadata": {},
          "execution_count": 21
        }
      ],
      "source": [
        "# Looking at this pipeline\n",
        "set_config(display = 'diagram')\n",
        "classifier"
      ]
    },
    {
      "cell_type": "code",
      "execution_count": 22,
      "id": "48dcad98-b3f1-47f3-8b2b-fe2d7e27350e",
      "metadata": {
        "execution": {
          "iopub.execute_input": "2022-03-16T16:04:57.777910Z",
          "iopub.status.busy": "2022-03-16T16:04:57.777622Z",
          "iopub.status.idle": "2022-03-16T16:04:57.787493Z",
          "shell.execute_reply": "2022-03-16T16:04:57.786892Z",
          "shell.execute_reply.started": "2022-03-16T16:04:57.777883Z"
        },
        "tags": [],
        "id": "48dcad98-b3f1-47f3-8b2b-fe2d7e27350e"
      },
      "outputs": [],
      "source": [
        "# Train a classifier\n",
        "\n",
        "x_train = train_df[numerical_features_full]\n",
        "y_train = train_df[model_target]"
      ]
    },
    {
      "cell_type": "code",
      "execution_count": 23,
      "id": "6627aebe-718c-45f3-9ffe-3170bb2ff5ef",
      "metadata": {
        "execution": {
          "iopub.execute_input": "2022-03-16T16:05:32.931741Z",
          "iopub.status.busy": "2022-03-16T16:05:32.931454Z",
          "iopub.status.idle": "2022-03-16T16:05:33.138193Z",
          "shell.execute_reply": "2022-03-16T16:05:33.137426Z",
          "shell.execute_reply.started": "2022-03-16T16:05:32.931714Z"
        },
        "tags": [],
        "colab": {
          "base_uri": "https://localhost:8080/",
          "height": 161
        },
        "id": "6627aebe-718c-45f3-9ffe-3170bb2ff5ef",
        "outputId": "103b14af-94c3-4c80-f2bf-c81ba099787f"
      },
      "outputs": [
        {
          "output_type": "execute_result",
          "data": {
            "text/plain": [
              "Pipeline(steps=[('imputer', SimpleImputer()), ('scaler', MinMaxScaler()),\n",
              "                ('estimator', KNeighborsClassifier(n_neighbors=3))])"
            ],
            "text/html": [
              "<style>#sk-4e539019-6b8e-4f44-a8aa-4558099276b0 {color: black;background-color: white;}#sk-4e539019-6b8e-4f44-a8aa-4558099276b0 pre{padding: 0;}#sk-4e539019-6b8e-4f44-a8aa-4558099276b0 div.sk-toggleable {background-color: white;}#sk-4e539019-6b8e-4f44-a8aa-4558099276b0 label.sk-toggleable__label {cursor: pointer;display: block;width: 100%;margin-bottom: 0;padding: 0.3em;box-sizing: border-box;text-align: center;}#sk-4e539019-6b8e-4f44-a8aa-4558099276b0 label.sk-toggleable__label-arrow:before {content: \"▸\";float: left;margin-right: 0.25em;color: #696969;}#sk-4e539019-6b8e-4f44-a8aa-4558099276b0 label.sk-toggleable__label-arrow:hover:before {color: black;}#sk-4e539019-6b8e-4f44-a8aa-4558099276b0 div.sk-estimator:hover label.sk-toggleable__label-arrow:before {color: black;}#sk-4e539019-6b8e-4f44-a8aa-4558099276b0 div.sk-toggleable__content {max-height: 0;max-width: 0;overflow: hidden;text-align: left;background-color: #f0f8ff;}#sk-4e539019-6b8e-4f44-a8aa-4558099276b0 div.sk-toggleable__content pre {margin: 0.2em;color: black;border-radius: 0.25em;background-color: #f0f8ff;}#sk-4e539019-6b8e-4f44-a8aa-4558099276b0 input.sk-toggleable__control:checked~div.sk-toggleable__content {max-height: 200px;max-width: 100%;overflow: auto;}#sk-4e539019-6b8e-4f44-a8aa-4558099276b0 input.sk-toggleable__control:checked~label.sk-toggleable__label-arrow:before {content: \"▾\";}#sk-4e539019-6b8e-4f44-a8aa-4558099276b0 div.sk-estimator input.sk-toggleable__control:checked~label.sk-toggleable__label {background-color: #d4ebff;}#sk-4e539019-6b8e-4f44-a8aa-4558099276b0 div.sk-label input.sk-toggleable__control:checked~label.sk-toggleable__label {background-color: #d4ebff;}#sk-4e539019-6b8e-4f44-a8aa-4558099276b0 input.sk-hidden--visually {border: 0;clip: rect(1px 1px 1px 1px);clip: rect(1px, 1px, 1px, 1px);height: 1px;margin: -1px;overflow: hidden;padding: 0;position: absolute;width: 1px;}#sk-4e539019-6b8e-4f44-a8aa-4558099276b0 div.sk-estimator {font-family: monospace;background-color: #f0f8ff;border: 1px dotted black;border-radius: 0.25em;box-sizing: border-box;margin-bottom: 0.5em;}#sk-4e539019-6b8e-4f44-a8aa-4558099276b0 div.sk-estimator:hover {background-color: #d4ebff;}#sk-4e539019-6b8e-4f44-a8aa-4558099276b0 div.sk-parallel-item::after {content: \"\";width: 100%;border-bottom: 1px solid gray;flex-grow: 1;}#sk-4e539019-6b8e-4f44-a8aa-4558099276b0 div.sk-label:hover label.sk-toggleable__label {background-color: #d4ebff;}#sk-4e539019-6b8e-4f44-a8aa-4558099276b0 div.sk-serial::before {content: \"\";position: absolute;border-left: 1px solid gray;box-sizing: border-box;top: 2em;bottom: 0;left: 50%;}#sk-4e539019-6b8e-4f44-a8aa-4558099276b0 div.sk-serial {display: flex;flex-direction: column;align-items: center;background-color: white;padding-right: 0.2em;padding-left: 0.2em;}#sk-4e539019-6b8e-4f44-a8aa-4558099276b0 div.sk-item {z-index: 1;}#sk-4e539019-6b8e-4f44-a8aa-4558099276b0 div.sk-parallel {display: flex;align-items: stretch;justify-content: center;background-color: white;}#sk-4e539019-6b8e-4f44-a8aa-4558099276b0 div.sk-parallel::before {content: \"\";position: absolute;border-left: 1px solid gray;box-sizing: border-box;top: 2em;bottom: 0;left: 50%;}#sk-4e539019-6b8e-4f44-a8aa-4558099276b0 div.sk-parallel-item {display: flex;flex-direction: column;position: relative;background-color: white;}#sk-4e539019-6b8e-4f44-a8aa-4558099276b0 div.sk-parallel-item:first-child::after {align-self: flex-end;width: 50%;}#sk-4e539019-6b8e-4f44-a8aa-4558099276b0 div.sk-parallel-item:last-child::after {align-self: flex-start;width: 50%;}#sk-4e539019-6b8e-4f44-a8aa-4558099276b0 div.sk-parallel-item:only-child::after {width: 0;}#sk-4e539019-6b8e-4f44-a8aa-4558099276b0 div.sk-dashed-wrapped {border: 1px dashed gray;margin: 0 0.4em 0.5em 0.4em;box-sizing: border-box;padding-bottom: 0.4em;background-color: white;position: relative;}#sk-4e539019-6b8e-4f44-a8aa-4558099276b0 div.sk-label label {font-family: monospace;font-weight: bold;background-color: white;display: inline-block;line-height: 1.2em;}#sk-4e539019-6b8e-4f44-a8aa-4558099276b0 div.sk-label-container {position: relative;z-index: 2;text-align: center;}#sk-4e539019-6b8e-4f44-a8aa-4558099276b0 div.sk-container {/* jupyter's `normalize.less` sets `[hidden] { display: none; }` but bootstrap.min.css set `[hidden] { display: none !important; }` so we also need the `!important` here to be able to override the default hidden behavior on the sphinx rendered scikit-learn.org. See: https://github.com/scikit-learn/scikit-learn/issues/21755 */display: inline-block !important;position: relative;}#sk-4e539019-6b8e-4f44-a8aa-4558099276b0 div.sk-text-repr-fallback {display: none;}</style><div id=\"sk-4e539019-6b8e-4f44-a8aa-4558099276b0\" class=\"sk-top-container\"><div class=\"sk-text-repr-fallback\"><pre>Pipeline(steps=[(&#x27;imputer&#x27;, SimpleImputer()), (&#x27;scaler&#x27;, MinMaxScaler()),\n",
              "                (&#x27;estimator&#x27;, KNeighborsClassifier(n_neighbors=3))])</pre><b>Please rerun this cell to show the HTML repr or trust the notebook.</b></div><div class=\"sk-container\" hidden><div class=\"sk-item sk-dashed-wrapped\"><div class=\"sk-label-container\"><div class=\"sk-label sk-toggleable\"><input class=\"sk-toggleable__control sk-hidden--visually\" id=\"5608547f-e61b-4f87-b2d8-66b596a3c722\" type=\"checkbox\" ><label for=\"5608547f-e61b-4f87-b2d8-66b596a3c722\" class=\"sk-toggleable__label sk-toggleable__label-arrow\">Pipeline</label><div class=\"sk-toggleable__content\"><pre>Pipeline(steps=[(&#x27;imputer&#x27;, SimpleImputer()), (&#x27;scaler&#x27;, MinMaxScaler()),\n",
              "                (&#x27;estimator&#x27;, KNeighborsClassifier(n_neighbors=3))])</pre></div></div></div><div class=\"sk-serial\"><div class=\"sk-item\"><div class=\"sk-estimator sk-toggleable\"><input class=\"sk-toggleable__control sk-hidden--visually\" id=\"3bd27b91-ba63-4880-bc37-8161d72794db\" type=\"checkbox\" ><label for=\"3bd27b91-ba63-4880-bc37-8161d72794db\" class=\"sk-toggleable__label sk-toggleable__label-arrow\">SimpleImputer</label><div class=\"sk-toggleable__content\"><pre>SimpleImputer()</pre></div></div></div><div class=\"sk-item\"><div class=\"sk-estimator sk-toggleable\"><input class=\"sk-toggleable__control sk-hidden--visually\" id=\"8c2fe323-0fc3-4810-a7f0-81d87acb9faa\" type=\"checkbox\" ><label for=\"8c2fe323-0fc3-4810-a7f0-81d87acb9faa\" class=\"sk-toggleable__label sk-toggleable__label-arrow\">MinMaxScaler</label><div class=\"sk-toggleable__content\"><pre>MinMaxScaler()</pre></div></div></div><div class=\"sk-item\"><div class=\"sk-estimator sk-toggleable\"><input class=\"sk-toggleable__control sk-hidden--visually\" id=\"b3b3dcf6-535b-458d-90d0-d7a68c06e262\" type=\"checkbox\" ><label for=\"b3b3dcf6-535b-458d-90d0-d7a68c06e262\" class=\"sk-toggleable__label sk-toggleable__label-arrow\">KNeighborsClassifier</label><div class=\"sk-toggleable__content\"><pre>KNeighborsClassifier(n_neighbors=3)</pre></div></div></div></div></div></div></div>"
            ]
          },
          "metadata": {},
          "execution_count": 23
        }
      ],
      "source": [
        "# fir these to the training data\n",
        "classifier.fit(x_train, y_train)"
      ]
    },
    {
      "cell_type": "code",
      "execution_count": 26,
      "id": "9e7ddf34-b0fa-475f-9fa7-5a1456f31faa",
      "metadata": {
        "execution": {
          "iopub.execute_input": "2022-03-16T16:40:01.015583Z",
          "iopub.status.busy": "2022-03-16T16:40:01.015296Z",
          "iopub.status.idle": "2022-03-16T16:43:04.761149Z",
          "shell.execute_reply": "2022-03-16T16:43:04.760395Z",
          "shell.execute_reply.started": "2022-03-16T16:40:01.015556Z"
        },
        "tags": [],
        "colab": {
          "base_uri": "https://localhost:8080/"
        },
        "id": "9e7ddf34-b0fa-475f-9fa7-5a1456f31faa",
        "outputId": "65238e0d-6cb6-4251-9d21-5f113ded56f3"
      },
      "outputs": [
        {
          "output_type": "stream",
          "name": "stdout",
          "text": [
            "              precision    recall  f1-score   support\n",
            "\n",
            "          No       0.91      0.96      0.94     88240\n",
            "         Yes       0.83      0.69      0.75     25514\n",
            "\n",
            "    accuracy                           0.90    113754\n",
            "   macro avg       0.87      0.82      0.85    113754\n",
            "weighted avg       0.90      0.90      0.90    113754\n",
            "\n",
            "Training accuracy: 0.8993705715842959\n",
            "Time: 195.8467071056366\n"
          ]
        }
      ],
      "source": [
        "# testing the performance of classifier\n",
        "\n",
        "start = time.time()\n",
        "\n",
        "train_pred = classifier.predict(x_train)\n",
        "\n",
        "#print(confusion_matrix(y_train, train_predictions))\n",
        "print(classification_report(y_train, train_pred))\n",
        "print(\"Training accuracy:\", accuracy_score(y_train, train_pred))\n",
        "\n",
        "print(f'Time: {time.time() - start}')"
      ]
    },
    {
      "cell_type": "code",
      "execution_count": 27,
      "id": "0ec5e76d-28d2-41b6-990a-e9bcdc53a79f",
      "metadata": {
        "execution": {
          "iopub.execute_input": "2022-03-16T16:47:34.371396Z",
          "iopub.status.busy": "2022-03-16T16:47:34.371112Z",
          "iopub.status.idle": "2022-03-16T16:47:34.378426Z",
          "shell.execute_reply": "2022-03-16T16:47:34.376220Z",
          "shell.execute_reply.started": "2022-03-16T16:47:34.371371Z"
        },
        "tags": [],
        "id": "0ec5e76d-28d2-41b6-990a-e9bcdc53a79f"
      },
      "outputs": [],
      "source": [
        "# Assessing accuracy on the test data\n",
        "\n",
        "x_test = test_df[numerical_features_full]\n",
        "y_test = test_df[model_target]"
      ]
    },
    {
      "cell_type": "code",
      "execution_count": 36,
      "id": "f5a9da5c-3d2f-4026-8621-147871000b81",
      "metadata": {
        "id": "f5a9da5c-3d2f-4026-8621-147871000b81",
        "colab": {
          "base_uri": "https://localhost:8080/"
        },
        "outputId": "598d8055-c576-4308-9821-f76e9fb39139"
      },
      "outputs": [
        {
          "output_type": "stream",
          "name": "stdout",
          "text": [
            "[0.82646917 0.82317261 0.82488682 0.82708452 0.82334066]\n",
            "0.8249907550495305\n",
            "Time: 148.48969769477844\n"
          ]
        }
      ],
      "source": [
        "# Validation for bes k-value\n",
        "from sklearn.model_selection import cross_val_score\n",
        "start = time.time()\n",
        "\n",
        "scores = cross_val_score(classifier, x_train, y_train, cv = 5, scoring = 'accuracy')\n",
        "print(scores)\n",
        "\n",
        "# average of scores\n",
        "print(scores.mean())\n",
        "\n",
        "print(f'Time: {time.time() - start}')"
      ]
    },
    {
      "cell_type": "code",
      "source": [
        "# choose k between 1 to 31\n",
        "start = time.time()\n",
        "\n",
        "k_range = range(1, 31)\n",
        "k_scores = []\n",
        "# use iteration to caclulator different k in models, then return the average accuracy based on the cross validation\n",
        "for k in k_range:\n",
        "    classifier = Pipeline([\n",
        "    ('imputer', SimpleImputer(strategy = 'mean')),\n",
        "    ('scaler', MinMaxScaler()),\n",
        "    ('estimator', KNeighborsClassifier(n_neighbors = k))\n",
        "])\n",
        "    scores = cross_val_score(classifier, x_train, y_train, cv=5, scoring='accuracy')\n",
        "    k_scores.append(scores.mean())\n",
        "# plot to see clearly\n",
        "plt.plot(k_range, k_scores)\n",
        "plt.xlabel('Value of K for KNN')\n",
        "plt.ylabel('Cross-Validated Accuracy')\n",
        "plt.show()\n",
        "\n",
        "\n",
        "print(f'Time: {time.time() - start}')"
      ],
      "metadata": {
        "colab": {
          "base_uri": "https://localhost:8080/",
          "height": 297
        },
        "id": "iVBo_vVuwJIT",
        "outputId": "e398fdda-cee9-47dc-d18a-4f0d78a28fd1"
      },
      "id": "iVBo_vVuwJIT",
      "execution_count": 37,
      "outputs": [
        {
          "output_type": "display_data",
          "data": {
            "text/plain": [
              "<Figure size 432x288 with 1 Axes>"
            ],
            "image/png": "[encoded data removed]"
          },
          "metadata": {
            "needs_background": "light"
          }
        },
        {
          "output_type": "stream",
          "name": "stdout",
          "text": [
            "Time: 6143.0669298172\n"
          ]
        }
      ]
    },
    {
      "cell_type": "code",
      "execution_count": 29,
      "id": "2e28c400-1c51-4a73-bf83-bdb91ca36ccc",
      "metadata": {
        "execution": {
          "iopub.execute_input": "2022-03-16T16:49:26.217181Z",
          "iopub.status.busy": "2022-03-16T16:49:26.216885Z",
          "iopub.status.idle": "2022-03-16T16:49:48.919145Z",
          "shell.execute_reply": "2022-03-16T16:49:48.917238Z",
          "shell.execute_reply.started": "2022-03-16T16:49:26.217155Z"
        },
        "tags": [],
        "colab": {
          "base_uri": "https://localhost:8080/"
        },
        "id": "2e28c400-1c51-4a73-bf83-bdb91ca36ccc",
        "outputId": "5fffbec3-ec1c-4cde-d47d-d02242afbf3d"
      },
      "outputs": [
        {
          "output_type": "stream",
          "name": "stdout",
          "text": [
            "              precision    recall  f1-score   support\n",
            "\n",
            "          No       0.87      0.92      0.89     10982\n",
            "         Yes       0.65      0.52      0.58      3238\n",
            "\n",
            "    accuracy                           0.83     14220\n",
            "   macro avg       0.76      0.72      0.73     14220\n",
            "weighted avg       0.82      0.83      0.82     14220\n",
            "\n",
            "Test accuracy: 0.8266526019690577\n",
            "Time: 23.59278964996338\n"
          ]
        }
      ],
      "source": [
        "start = time.time()\n",
        "test_pred = classifier.predict(x_test)\n",
        "\n",
        "#print(confusion_matrix(y_train, train_predictions))\n",
        "print(classification_report(y_test, test_pred))\n",
        "print(\"Test accuracy:\", accuracy_score(y_test, test_pred))\n",
        "\n",
        "print(f'Time: {time.time() - start}')"
      ]
    }
  ],
  "metadata": {
    "kernelspec": {
      "display_name": "saturn (Python 3)",
      "language": "python",
      "name": "python3"
    },
    "language_info": {
      "codemirror_mode": {
        "name": "ipython",
        "version": 3
      },
      "file_extension": ".py",
      "mimetype": "text/x-python",
      "name": "python",
      "nbconvert_exporter": "python",
      "pygments_lexer": "ipython3",
      "version": "3.9.9"
    },
    "colab": {
      "name": "EDA_&_KNN.ipynb",
      "provenance": [],
      "collapsed_sections": []
    }
  },
  "nbformat": 4,
  "nbformat_minor": 5
}