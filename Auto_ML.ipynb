{
  "nbformat": 4,
  "nbformat_minor": 0,
  "metadata": {
    "colab": {
      "name": "Auto_ML_Rain.ipynb",
      "provenance": [],
      "collapsed_sections": []
    },
    "kernelspec": {
      "name": "python3",
      "display_name": "Python 3"
    },
    "language_info": {
      "name": "python"
    },
    "accelerator": "GPU"
  },
  "cells": [
    {
      "cell_type": "code",
      "source": [
        "!pip install scipy==1.7.0"
      ],
      "metadata": {
        "colab": {
          "base_uri": "https://localhost:8080/"
        },
        "id": "PxquEjGDty0K",
        "outputId": "baa0d756-f84d-4c91-e746-79948e3685bc"
      },
      "execution_count": 1,
      "outputs": [
        {
          "output_type": "stream",
          "name": "stdout",
          "text": [
            "Requirement already satisfied: scipy==1.7.0 in /usr/local/lib/python3.7/dist-packages (1.7.0)\n",
            "Requirement already satisfied: numpy<1.23.0,>=1.16.5 in /usr/local/lib/python3.7/dist-packages (from scipy==1.7.0) (1.21.5)\n"
          ]
        }
      ]
    },
    {
      "cell_type": "code",
      "source": [
        "!sudo apt-get install build-essential swig\n",
        "!curl https://raw.githubusercontent.com/automl/auto-sklearn/master/requirements.txt | xargs -n 1 -L 1 pip install\n",
        "!pip install auto-sklearn\n",
        "import autosklearn.classification"
      ],
      "metadata": {
        "colab": {
          "base_uri": "https://localhost:8080/"
        },
        "id": "0EUPefeVs1fo",
        "outputId": "0e3b11ba-3640-426f-f7f9-543c317a50ae"
      },
      "execution_count": 2,
      "outputs": [
        {
          "output_type": "stream",
          "name": "stdout",
          "text": [
            "Reading package lists... Done\n",
            "Building dependency tree       \n",
            "Reading state information... Done\n",
            "build-essential is already the newest version (12.4ubuntu1).\n",
            "swig is already the newest version (3.0.12-1).\n",
            "0 upgraded, 0 newly installed, 0 to remove and 39 not upgraded.\n",
            "  % Total    % Received % Xferd  Average Speed   Time    Time     Time  Current\n",
            "                                 Dload  Upload   Total   Spent    Left  Speed\n",
            "100   250  100   250    0     0   2100      0 --:--:-- --:--:-- --:--:--  2100\n",
            "Requirement already satisfied: setuptools in /usr/local/lib/python3.7/dist-packages (57.4.0)\n",
            "Requirement already satisfied: typing_extensions in /usr/local/lib/python3.7/dist-packages (3.10.0.2)\n",
            "Requirement already satisfied: distro in /usr/local/lib/python3.7/dist-packages (1.7.0)\n",
            "Requirement already satisfied: numpy>=1.9.0 in /usr/local/lib/python3.7/dist-packages (1.21.5)\n",
            "Requirement already satisfied: scipy>=1.7.0 in /usr/local/lib/python3.7/dist-packages (1.7.0)\n",
            "Requirement already satisfied: numpy<1.23.0,>=1.16.5 in /usr/local/lib/python3.7/dist-packages (from scipy>=1.7.0) (1.21.5)\n",
            "Requirement already satisfied: joblib in /usr/local/lib/python3.7/dist-packages (1.1.0)\n",
            "Requirement already satisfied: scikit-learn<0.25.0,>=0.24.0 in /usr/local/lib/python3.7/dist-packages (0.24.2)\n",
            "Requirement already satisfied: joblib>=0.11 in /usr/local/lib/python3.7/dist-packages (from scikit-learn<0.25.0,>=0.24.0) (1.1.0)\n",
            "Requirement already satisfied: threadpoolctl>=2.0.0 in /usr/local/lib/python3.7/dist-packages (from scikit-learn<0.25.0,>=0.24.0) (3.1.0)\n",
            "Requirement already satisfied: numpy>=1.13.3 in /usr/local/lib/python3.7/dist-packages (from scikit-learn<0.25.0,>=0.24.0) (1.21.5)\n",
            "Requirement already satisfied: scipy>=0.19.1 in /usr/local/lib/python3.7/dist-packages (from scikit-learn<0.25.0,>=0.24.0) (1.7.0)\n",
            "Requirement already satisfied: dask>=2021.12 in /usr/local/lib/python3.7/dist-packages (2022.2.0)\n",
            "Requirement already satisfied: toolz>=0.8.2 in /usr/local/lib/python3.7/dist-packages (from dask>=2021.12) (0.11.2)\n",
            "Requirement already satisfied: cloudpickle>=1.1.1 in /usr/local/lib/python3.7/dist-packages (from dask>=2021.12) (2.0.0)\n",
            "Requirement already satisfied: packaging>=20.0 in /usr/local/lib/python3.7/dist-packages (from dask>=2021.12) (21.3)\n",
            "Requirement already satisfied: fsspec>=0.6.0 in /usr/local/lib/python3.7/dist-packages (from dask>=2021.12) (2022.2.0)\n",
            "Requirement already satisfied: partd>=0.3.10 in /usr/local/lib/python3.7/dist-packages (from dask>=2021.12) (1.2.0)\n",
            "Requirement already satisfied: pyyaml>=5.3.1 in /usr/local/lib/python3.7/dist-packages (from dask>=2021.12) (6.0)\n",
            "Requirement already satisfied: pyparsing!=3.0.5,>=2.0.2 in /usr/local/lib/python3.7/dist-packages (from packaging>=20.0->dask>=2021.12) (3.0.7)\n",
            "Requirement already satisfied: locket in /usr/local/lib/python3.7/dist-packages (from partd>=0.3.10->dask>=2021.12) (0.2.1)\n",
            "Requirement already satisfied: distributed>=2012.12 in /usr/local/lib/python3.7/dist-packages (2022.2.0)\n",
            "Requirement already satisfied: tblib>=1.6.0 in /usr/local/lib/python3.7/dist-packages (from distributed>=2012.12) (1.7.0)\n",
            "Requirement already satisfied: tornado>=5 in /usr/local/lib/python3.7/dist-packages (from distributed>=2012.12) (5.1.1)\n",
            "Requirement already satisfied: toolz>=0.8.2 in /usr/local/lib/python3.7/dist-packages (from distributed>=2012.12) (0.11.2)\n",
            "Requirement already satisfied: jinja2 in /usr/local/lib/python3.7/dist-packages (from distributed>=2012.12) (2.11.3)\n",
            "Requirement already satisfied: dask==2022.02.0 in /usr/local/lib/python3.7/dist-packages (from distributed>=2012.12) (2022.2.0)\n",
            "Requirement already satisfied: setuptools in /usr/local/lib/python3.7/dist-packages (from distributed>=2012.12) (57.4.0)\n",
            "Requirement already satisfied: msgpack>=0.6.0 in /usr/local/lib/python3.7/dist-packages (from distributed>=2012.12) (1.0.3)\n",
            "Requirement already satisfied: psutil>=5.0 in /usr/local/lib/python3.7/dist-packages (from distributed>=2012.12) (5.4.8)\n",
            "Requirement already satisfied: click>=6.6 in /usr/local/lib/python3.7/dist-packages (from distributed>=2012.12) (7.1.2)\n",
            "Requirement already satisfied: zict>=0.1.3 in /usr/local/lib/python3.7/dist-packages (from distributed>=2012.12) (2.1.0)\n",
            "Requirement already satisfied: packaging>=20.0 in /usr/local/lib/python3.7/dist-packages (from distributed>=2012.12) (21.3)\n",
            "Requirement already satisfied: pyyaml in /usr/local/lib/python3.7/dist-packages (from distributed>=2012.12) (6.0)\n",
            "Requirement already satisfied: sortedcontainers!=2.0.0,!=2.0.1 in /usr/local/lib/python3.7/dist-packages (from distributed>=2012.12) (2.4.0)\n",
            "Requirement already satisfied: cloudpickle>=1.5.0 in /usr/local/lib/python3.7/dist-packages (from distributed>=2012.12) (2.0.0)\n",
            "Requirement already satisfied: fsspec>=0.6.0 in /usr/local/lib/python3.7/dist-packages (from dask==2022.02.0->distributed>=2012.12) (2022.2.0)\n",
            "Requirement already satisfied: partd>=0.3.10 in /usr/local/lib/python3.7/dist-packages (from dask==2022.02.0->distributed>=2012.12) (1.2.0)\n",
            "Requirement already satisfied: pyparsing!=3.0.5,>=2.0.2 in /usr/local/lib/python3.7/dist-packages (from packaging>=20.0->distributed>=2012.12) (3.0.7)\n",
            "Requirement already satisfied: locket in /usr/local/lib/python3.7/dist-packages (from partd>=0.3.10->dask==2022.02.0->distributed>=2012.12) (0.2.1)\n",
            "Requirement already satisfied: heapdict in /usr/local/lib/python3.7/dist-packages (from zict>=0.1.3->distributed>=2012.12) (1.0.1)\n",
            "Requirement already satisfied: MarkupSafe>=0.23 in /usr/local/lib/python3.7/dist-packages (from jinja2->distributed>=2012.12) (2.0.1)\n",
            "Requirement already satisfied: pyyaml in /usr/local/lib/python3.7/dist-packages (6.0)\n",
            "Requirement already satisfied: pandas>=1.0 in /usr/local/lib/python3.7/dist-packages (1.3.5)\n",
            "Requirement already satisfied: python-dateutil>=2.7.3 in /usr/local/lib/python3.7/dist-packages (from pandas>=1.0) (2.8.2)\n",
            "Requirement already satisfied: pytz>=2017.3 in /usr/local/lib/python3.7/dist-packages (from pandas>=1.0) (2018.9)\n",
            "Requirement already satisfied: numpy>=1.17.3 in /usr/local/lib/python3.7/dist-packages (from pandas>=1.0) (1.21.5)\n",
            "Requirement already satisfied: six>=1.5 in /usr/local/lib/python3.7/dist-packages (from python-dateutil>=2.7.3->pandas>=1.0) (1.15.0)\n",
            "Requirement already satisfied: liac-arff in /usr/local/lib/python3.7/dist-packages (2.5.0)\n",
            "Requirement already satisfied: threadpoolctl in /usr/local/lib/python3.7/dist-packages (3.1.0)\n",
            "Requirement already satisfied: ConfigSpace<0.5,>=0.4.14 in /usr/local/lib/python3.7/dist-packages (0.4.21)\n",
            "Requirement already satisfied: numpy in /usr/local/lib/python3.7/dist-packages (from ConfigSpace<0.5,>=0.4.14) (1.21.5)\n",
            "Requirement already satisfied: pyparsing in /usr/local/lib/python3.7/dist-packages (from ConfigSpace<0.5,>=0.4.14) (3.0.7)\n",
            "Requirement already satisfied: cython in /usr/local/lib/python3.7/dist-packages (from ConfigSpace<0.5,>=0.4.14) (0.29.28)\n",
            "Requirement already satisfied: scipy in /usr/local/lib/python3.7/dist-packages (from ConfigSpace<0.5,>=0.4.14) (1.7.0)\n",
            "Requirement already satisfied: pynisher>=0.6.3 in /usr/local/lib/python3.7/dist-packages (0.6.4)\n",
            "Requirement already satisfied: psutil in /usr/local/lib/python3.7/dist-packages (from pynisher>=0.6.3) (5.4.8)\n",
            "Requirement already satisfied: setuptools in /usr/local/lib/python3.7/dist-packages (from pynisher>=0.6.3) (57.4.0)\n",
            "Requirement already satisfied: pyrfr<0.9,>=0.8.1 in /usr/local/lib/python3.7/dist-packages (0.8.2)\n",
            "Requirement already satisfied: smac>=0.14 in /usr/local/lib/python3.7/dist-packages (1.2)\n",
            "Requirement already satisfied: dask in /usr/local/lib/python3.7/dist-packages (from smac>=0.14) (2022.2.0)\n",
            "Requirement already satisfied: joblib in /usr/local/lib/python3.7/dist-packages (from smac>=0.14) (1.1.0)\n",
            "Requirement already satisfied: pynisher>=0.4.1 in /usr/local/lib/python3.7/dist-packages (from smac>=0.14) (0.6.4)\n",
            "Requirement already satisfied: scipy>=1.7.0 in /usr/local/lib/python3.7/dist-packages (from smac>=0.14) (1.7.0)\n",
            "Requirement already satisfied: scikit-learn>=0.22.0 in /usr/local/lib/python3.7/dist-packages (from smac>=0.14) (0.24.2)\n",
            "Requirement already satisfied: psutil in /usr/local/lib/python3.7/dist-packages (from smac>=0.14) (5.4.8)\n",
            "Requirement already satisfied: numpy>=1.7.1 in /usr/local/lib/python3.7/dist-packages (from smac>=0.14) (1.21.5)\n",
            "Requirement already satisfied: emcee>=3.0.0 in /usr/local/lib/python3.7/dist-packages (from smac>=0.14) (3.1.1)\n",
            "Requirement already satisfied: ConfigSpace<0.5,>=0.4.14 in /usr/local/lib/python3.7/dist-packages (from smac>=0.14) (0.4.21)\n",
            "Requirement already satisfied: distributed in /usr/local/lib/python3.7/dist-packages (from smac>=0.14) (2022.2.0)\n",
            "Requirement already satisfied: pyrfr>=0.8.0 in /usr/local/lib/python3.7/dist-packages (from smac>=0.14) (0.8.2)\n",
            "Requirement already satisfied: cython in /usr/local/lib/python3.7/dist-packages (from ConfigSpace<0.5,>=0.4.14->smac>=0.14) (0.29.28)\n",
            "Requirement already satisfied: pyparsing in /usr/local/lib/python3.7/dist-packages (from ConfigSpace<0.5,>=0.4.14->smac>=0.14) (3.0.7)\n",
            "Requirement already satisfied: setuptools in /usr/local/lib/python3.7/dist-packages (from pynisher>=0.4.1->smac>=0.14) (57.4.0)\n",
            "Requirement already satisfied: threadpoolctl>=2.0.0 in /usr/local/lib/python3.7/dist-packages (from scikit-learn>=0.22.0->smac>=0.14) (3.1.0)\n",
            "Requirement already satisfied: fsspec>=0.6.0 in /usr/local/lib/python3.7/dist-packages (from dask->smac>=0.14) (2022.2.0)\n",
            "Requirement already satisfied: cloudpickle>=1.1.1 in /usr/local/lib/python3.7/dist-packages (from dask->smac>=0.14) (2.0.0)\n",
            "Requirement already satisfied: partd>=0.3.10 in /usr/local/lib/python3.7/dist-packages (from dask->smac>=0.14) (1.2.0)\n",
            "Requirement already satisfied: toolz>=0.8.2 in /usr/local/lib/python3.7/dist-packages (from dask->smac>=0.14) (0.11.2)\n",
            "Requirement already satisfied: pyyaml>=5.3.1 in /usr/local/lib/python3.7/dist-packages (from dask->smac>=0.14) (6.0)\n",
            "Requirement already satisfied: packaging>=20.0 in /usr/local/lib/python3.7/dist-packages (from dask->smac>=0.14) (21.3)\n",
            "Requirement already satisfied: locket in /usr/local/lib/python3.7/dist-packages (from partd>=0.3.10->dask->smac>=0.14) (0.2.1)\n",
            "Requirement already satisfied: click>=6.6 in /usr/local/lib/python3.7/dist-packages (from distributed->smac>=0.14) (7.1.2)\n",
            "Requirement already satisfied: sortedcontainers!=2.0.0,!=2.0.1 in /usr/local/lib/python3.7/dist-packages (from distributed->smac>=0.14) (2.4.0)\n",
            "Requirement already satisfied: msgpack>=0.6.0 in /usr/local/lib/python3.7/dist-packages (from distributed->smac>=0.14) (1.0.3)\n",
            "Requirement already satisfied: tornado>=5 in /usr/local/lib/python3.7/dist-packages (from distributed->smac>=0.14) (5.1.1)\n",
            "Requirement already satisfied: tblib>=1.6.0 in /usr/local/lib/python3.7/dist-packages (from distributed->smac>=0.14) (1.7.0)\n",
            "Requirement already satisfied: jinja2 in /usr/local/lib/python3.7/dist-packages (from distributed->smac>=0.14) (2.11.3)\n",
            "Requirement already satisfied: zict>=0.1.3 in /usr/local/lib/python3.7/dist-packages (from distributed->smac>=0.14) (2.1.0)\n",
            "Requirement already satisfied: heapdict in /usr/local/lib/python3.7/dist-packages (from zict>=0.1.3->distributed->smac>=0.14) (1.0.1)\n",
            "Requirement already satisfied: MarkupSafe>=0.23 in /usr/local/lib/python3.7/dist-packages (from jinja2->distributed->smac>=0.14) (2.0.1)\n",
            "Requirement already satisfied: auto-sklearn in /usr/local/lib/python3.7/dist-packages (0.14.6)\n",
            "Requirement already satisfied: joblib in /usr/local/lib/python3.7/dist-packages (from auto-sklearn) (1.1.0)\n",
            "Requirement already satisfied: distributed>=2012.12 in /usr/local/lib/python3.7/dist-packages (from auto-sklearn) (2022.2.0)\n",
            "Requirement already satisfied: typing-extensions in /usr/local/lib/python3.7/dist-packages (from auto-sklearn) (3.10.0.2)\n",
            "Requirement already satisfied: pyyaml in /usr/local/lib/python3.7/dist-packages (from auto-sklearn) (6.0)\n",
            "Requirement already satisfied: scikit-learn<0.25.0,>=0.24.0 in /usr/local/lib/python3.7/dist-packages (from auto-sklearn) (0.24.2)\n",
            "Requirement already satisfied: liac-arff in /usr/local/lib/python3.7/dist-packages (from auto-sklearn) (2.5.0)\n",
            "Requirement already satisfied: threadpoolctl in /usr/local/lib/python3.7/dist-packages (from auto-sklearn) (3.1.0)\n",
            "Requirement already satisfied: ConfigSpace<0.5,>=0.4.14 in /usr/local/lib/python3.7/dist-packages (from auto-sklearn) (0.4.21)\n",
            "Requirement already satisfied: pynisher>=0.6.3 in /usr/local/lib/python3.7/dist-packages (from auto-sklearn) (0.6.4)\n",
            "Requirement already satisfied: pandas>=1.0 in /usr/local/lib/python3.7/dist-packages (from auto-sklearn) (1.3.5)\n",
            "Requirement already satisfied: scipy>=1.7.0 in /usr/local/lib/python3.7/dist-packages (from auto-sklearn) (1.7.0)\n",
            "Requirement already satisfied: dask>=2021.12 in /usr/local/lib/python3.7/dist-packages (from auto-sklearn) (2022.2.0)\n",
            "Requirement already satisfied: smac>=0.14 in /usr/local/lib/python3.7/dist-packages (from auto-sklearn) (1.2)\n",
            "Requirement already satisfied: numpy>=1.9.0 in /usr/local/lib/python3.7/dist-packages (from auto-sklearn) (1.21.5)\n",
            "Requirement already satisfied: setuptools in /usr/local/lib/python3.7/dist-packages (from auto-sklearn) (57.4.0)\n",
            "Requirement already satisfied: distro in /usr/local/lib/python3.7/dist-packages (from auto-sklearn) (1.7.0)\n",
            "Requirement already satisfied: pyrfr<0.9,>=0.8.1 in /usr/local/lib/python3.7/dist-packages (from auto-sklearn) (0.8.2)\n",
            "Requirement already satisfied: cython in /usr/local/lib/python3.7/dist-packages (from ConfigSpace<0.5,>=0.4.14->auto-sklearn) (0.29.28)\n",
            "Requirement already satisfied: pyparsing in /usr/local/lib/python3.7/dist-packages (from ConfigSpace<0.5,>=0.4.14->auto-sklearn) (3.0.7)\n",
            "Requirement already satisfied: fsspec>=0.6.0 in /usr/local/lib/python3.7/dist-packages (from dask>=2021.12->auto-sklearn) (2022.2.0)\n",
            "Requirement already satisfied: toolz>=0.8.2 in /usr/local/lib/python3.7/dist-packages (from dask>=2021.12->auto-sklearn) (0.11.2)\n",
            "Requirement already satisfied: cloudpickle>=1.1.1 in /usr/local/lib/python3.7/dist-packages (from dask>=2021.12->auto-sklearn) (2.0.0)\n",
            "Requirement already satisfied: partd>=0.3.10 in /usr/local/lib/python3.7/dist-packages (from dask>=2021.12->auto-sklearn) (1.2.0)\n",
            "Requirement already satisfied: packaging>=20.0 in /usr/local/lib/python3.7/dist-packages (from dask>=2021.12->auto-sklearn) (21.3)\n",
            "Requirement already satisfied: msgpack>=0.6.0 in /usr/local/lib/python3.7/dist-packages (from distributed>=2012.12->auto-sklearn) (1.0.3)\n",
            "Requirement already satisfied: psutil>=5.0 in /usr/local/lib/python3.7/dist-packages (from distributed>=2012.12->auto-sklearn) (5.4.8)\n",
            "Requirement already satisfied: tornado>=5 in /usr/local/lib/python3.7/dist-packages (from distributed>=2012.12->auto-sklearn) (5.1.1)\n",
            "Requirement already satisfied: click>=6.6 in /usr/local/lib/python3.7/dist-packages (from distributed>=2012.12->auto-sklearn) (7.1.2)\n",
            "Requirement already satisfied: jinja2 in /usr/local/lib/python3.7/dist-packages (from distributed>=2012.12->auto-sklearn) (2.11.3)\n",
            "Requirement already satisfied: sortedcontainers!=2.0.0,!=2.0.1 in /usr/local/lib/python3.7/dist-packages (from distributed>=2012.12->auto-sklearn) (2.4.0)\n",
            "Requirement already satisfied: tblib>=1.6.0 in /usr/local/lib/python3.7/dist-packages (from distributed>=2012.12->auto-sklearn) (1.7.0)\n",
            "Requirement already satisfied: zict>=0.1.3 in /usr/local/lib/python3.7/dist-packages (from distributed>=2012.12->auto-sklearn) (2.1.0)\n",
            "Requirement already satisfied: python-dateutil>=2.7.3 in /usr/local/lib/python3.7/dist-packages (from pandas>=1.0->auto-sklearn) (2.8.2)\n",
            "Requirement already satisfied: pytz>=2017.3 in /usr/local/lib/python3.7/dist-packages (from pandas>=1.0->auto-sklearn) (2018.9)\n",
            "Requirement already satisfied: locket in /usr/local/lib/python3.7/dist-packages (from partd>=0.3.10->dask>=2021.12->auto-sklearn) (0.2.1)\n",
            "Requirement already satisfied: six>=1.5 in /usr/local/lib/python3.7/dist-packages (from python-dateutil>=2.7.3->pandas>=1.0->auto-sklearn) (1.15.0)\n",
            "Requirement already satisfied: emcee>=3.0.0 in /usr/local/lib/python3.7/dist-packages (from smac>=0.14->auto-sklearn) (3.1.1)\n",
            "Requirement already satisfied: heapdict in /usr/local/lib/python3.7/dist-packages (from zict>=0.1.3->distributed>=2012.12->auto-sklearn) (1.0.1)\n",
            "Requirement already satisfied: MarkupSafe>=0.23 in /usr/local/lib/python3.7/dist-packages (from jinja2->distributed>=2012.12->auto-sklearn) (2.0.1)\n"
          ]
        }
      ]
    },
    {
      "cell_type": "code",
      "source": [
        "import sklearn.metrics\n",
        "import pandas as pd\n",
        "import numpy as np"
      ],
      "metadata": {
        "id": "IKuaHIxffAAg"
      },
      "execution_count": 4,
      "outputs": []
    },
    {
      "cell_type": "code",
      "source": [
        "# import the data set.\n",
        "# do this directly from the github\n",
        "url = \"https://raw.githubusercontent.com/BUCKERS99/C7084-Big-data--Will-it-rain-tomorrow-/main/weather_data.csv\"\n",
        "df = pd.read_csv(url)\n",
        "# print(c)"
      ],
      "metadata": {
        "id": "HXsiK3LbulIc"
      },
      "execution_count": 5,
      "outputs": []
    },
    {
      "cell_type": "code",
      "source": [
        "## EDA ####\n",
        " # showing the forst and last 5 rows of the data and all variables\n",
        "df.head"
      ],
      "metadata": {
        "colab": {
          "base_uri": "https://localhost:8080/"
        },
        "id": "_n0Bl0pBulFf",
        "outputId": "2b9715fc-f6a7-4f16-9a28-620728113a47"
      },
      "execution_count": 6,
      "outputs": [
        {
          "output_type": "execute_result",
          "data": {
            "text/plain": [
              "<bound method NDFrame.head of               Date Location  MinTemp  MaxTemp  Rainfall  Evaporation  \\\n",
              "0       01/12/2008   Albury     13.4     22.9       0.6          NaN   \n",
              "1       02/12/2008   Albury      7.4     25.1       0.0          NaN   \n",
              "2       03/12/2008   Albury     12.9     25.7       0.0          NaN   \n",
              "3       04/12/2008   Albury      9.2     28.0       0.0          NaN   \n",
              "4       05/12/2008   Albury     17.5     32.3       1.0          NaN   \n",
              "...            ...      ...      ...      ...       ...          ...   \n",
              "145455  21/06/2017    Uluru      2.8     23.4       0.0          NaN   \n",
              "145456  22/06/2017    Uluru      3.6     25.3       0.0          NaN   \n",
              "145457  23/06/2017    Uluru      5.4     26.9       0.0          NaN   \n",
              "145458  24/06/2017    Uluru      7.8     27.0       0.0          NaN   \n",
              "145459  25/06/2017    Uluru     14.9      NaN       0.0          NaN   \n",
              "\n",
              "        Sunshine WindGustDir  WindGustSpeed WindDir9am  ... Humidity9am  \\\n",
              "0            NaN           W           44.0          W  ...        71.0   \n",
              "1            NaN         WNW           44.0        NNW  ...        44.0   \n",
              "2            NaN         WSW           46.0          W  ...        38.0   \n",
              "3            NaN          NE           24.0         SE  ...        45.0   \n",
              "4            NaN           W           41.0        ENE  ...        82.0   \n",
              "...          ...         ...            ...        ...  ...         ...   \n",
              "145455       NaN           E           31.0         SE  ...        51.0   \n",
              "145456       NaN         NNW           22.0         SE  ...        56.0   \n",
              "145457       NaN           N           37.0         SE  ...        53.0   \n",
              "145458       NaN          SE           28.0        SSE  ...        51.0   \n",
              "145459       NaN         NaN            NaN        ESE  ...        62.0   \n",
              "\n",
              "        Humidity3pm  Pressure9am  Pressure3pm  Cloud9am  Cloud3pm  Temp9am  \\\n",
              "0              22.0       1007.7       1007.1       8.0       NaN     16.9   \n",
              "1              25.0       1010.6       1007.8       NaN       NaN     17.2   \n",
              "2              30.0       1007.6       1008.7       NaN       2.0     21.0   \n",
              "3              16.0       1017.6       1012.8       NaN       NaN     18.1   \n",
              "4              33.0       1010.8       1006.0       7.0       8.0     17.8   \n",
              "...             ...          ...          ...       ...       ...      ...   \n",
              "145455         24.0       1024.6       1020.3       NaN       NaN     10.1   \n",
              "145456         21.0       1023.5       1019.1       NaN       NaN     10.9   \n",
              "145457         24.0       1021.0       1016.8       NaN       NaN     12.5   \n",
              "145458         24.0       1019.4       1016.5       3.0       2.0     15.1   \n",
              "145459         36.0       1020.2       1017.9       8.0       8.0     15.0   \n",
              "\n",
              "        Temp3pm  RainToday  RainTomorrow  \n",
              "0          21.8         No            No  \n",
              "1          24.3         No            No  \n",
              "2          23.2         No            No  \n",
              "3          26.5         No            No  \n",
              "4          29.7         No            No  \n",
              "...         ...        ...           ...  \n",
              "145455     22.4         No            No  \n",
              "145456     24.5         No            No  \n",
              "145457     26.1         No            No  \n",
              "145458     26.0         No            No  \n",
              "145459     20.9         No           NaN  \n",
              "\n",
              "[145460 rows x 23 columns]>"
            ]
          },
          "metadata": {},
          "execution_count": 6
        }
      ]
    },
    {
      "cell_type": "code",
      "source": [
        "# Sorting out data class\n",
        "for col in ['WindDir9am', 'WindDir3pm', 'WindGustDir', 'RainToday', 'RainTomorrow']:\n",
        "    df[col] = df[col].astype('category')\n",
        "# looking at the data types and non-null values\n",
        "df.info()\n",
        "# this shows that there is some NA values"
      ],
      "metadata": {
        "colab": {
          "base_uri": "https://localhost:8080/"
        },
        "id": "5m30X8NPulDS",
        "outputId": "0da47ba4-e6af-4aff-cd0e-939d580994be"
      },
      "execution_count": 7,
      "outputs": [
        {
          "output_type": "stream",
          "name": "stdout",
          "text": [
            "<class 'pandas.core.frame.DataFrame'>\n",
            "RangeIndex: 145460 entries, 0 to 145459\n",
            "Data columns (total 23 columns):\n",
            " #   Column         Non-Null Count   Dtype   \n",
            "---  ------         --------------   -----   \n",
            " 0   Date           145460 non-null  object  \n",
            " 1   Location       145460 non-null  object  \n",
            " 2   MinTemp        143975 non-null  float64 \n",
            " 3   MaxTemp        144199 non-null  float64 \n",
            " 4   Rainfall       142199 non-null  float64 \n",
            " 5   Evaporation    82670 non-null   float64 \n",
            " 6   Sunshine       75625 non-null   float64 \n",
            " 7   WindGustDir    135134 non-null  category\n",
            " 8   WindGustSpeed  135197 non-null  float64 \n",
            " 9   WindDir9am     134894 non-null  category\n",
            " 10  WindDir3pm     141232 non-null  category\n",
            " 11  WindSpeed9am   143693 non-null  float64 \n",
            " 12  WindSpeed3pm   142398 non-null  float64 \n",
            " 13  Humidity9am    142806 non-null  float64 \n",
            " 14  Humidity3pm    140953 non-null  float64 \n",
            " 15  Pressure9am    130395 non-null  float64 \n",
            " 16  Pressure3pm    130432 non-null  float64 \n",
            " 17  Cloud9am       89572 non-null   float64 \n",
            " 18  Cloud3pm       86102 non-null   float64 \n",
            " 19  Temp9am        143693 non-null  float64 \n",
            " 20  Temp3pm        141851 non-null  float64 \n",
            " 21  RainToday      142199 non-null  category\n",
            " 22  RainTomorrow   142193 non-null  category\n",
            "dtypes: category(5), float64(16), object(2)\n",
            "memory usage: 20.7+ MB\n"
          ]
        }
      ]
    },
    {
      "cell_type": "code",
      "source": [
        "# separate the model features and target\n",
        "model_features = df.columns.drop(['RainTomorrow','Date', 'Location'])\n",
        "#model_features = df.columns.drop('Date')\n",
        "model_target = 'RainTomorrow'\n",
        "\n",
        "print('Model features: ', model_features)\n",
        "print('Model target: ', model_target)"
      ],
      "metadata": {
        "colab": {
          "base_uri": "https://localhost:8080/"
        },
        "id": "9YeYn_D8ulA0",
        "outputId": "db697c04-0d7e-4f9f-9c53-6508d5bd53f3"
      },
      "execution_count": 8,
      "outputs": [
        {
          "output_type": "stream",
          "name": "stdout",
          "text": [
            "Model features:  Index(['MinTemp', 'MaxTemp', 'Rainfall', 'Evaporation', 'Sunshine',\n",
            "       'WindGustDir', 'WindGustSpeed', 'WindDir9am', 'WindDir3pm',\n",
            "       'WindSpeed9am', 'WindSpeed3pm', 'Humidity9am', 'Humidity3pm',\n",
            "       'Pressure9am', 'Pressure3pm', 'Cloud9am', 'Cloud3pm', 'Temp9am',\n",
            "       'Temp3pm', 'RainToday'],\n",
            "      dtype='object')\n",
            "Model target:  RainTomorrow\n"
          ]
        }
      ]
    },
    {
      "cell_type": "code",
      "source": [
        "df.isna().sum()\n",
        "# we can see that there are missing values in all of the varibles, but for the moment we will remove just the dependant variable NA's"
      ],
      "metadata": {
        "colab": {
          "base_uri": "https://localhost:8080/"
        },
        "id": "-iHSBd8Yuk9-",
        "outputId": "1007024d-0a08-4ef8-de1f-61eba533e042"
      },
      "execution_count": 9,
      "outputs": [
        {
          "output_type": "execute_result",
          "data": {
            "text/plain": [
              "Date                 0\n",
              "Location             0\n",
              "MinTemp           1485\n",
              "MaxTemp           1261\n",
              "Rainfall          3261\n",
              "Evaporation      62790\n",
              "Sunshine         69835\n",
              "WindGustDir      10326\n",
              "WindGustSpeed    10263\n",
              "WindDir9am       10566\n",
              "WindDir3pm        4228\n",
              "WindSpeed9am      1767\n",
              "WindSpeed3pm      3062\n",
              "Humidity9am       2654\n",
              "Humidity3pm       4507\n",
              "Pressure9am      15065\n",
              "Pressure3pm      15028\n",
              "Cloud9am         55888\n",
              "Cloud3pm         59358\n",
              "Temp9am           1767\n",
              "Temp3pm           3609\n",
              "RainToday         3261\n",
              "RainTomorrow      3267\n",
              "dtype: int64"
            ]
          },
          "metadata": {},
          "execution_count": 9
        }
      ]
    },
    {
      "cell_type": "code",
      "source": [
        "#df_NA = df.dropna(subset=[\"RainTomorrow\"])\n",
        "df_NA = df.dropna()\n",
        "# run the code from line 53 again to check if this has removed the values\n",
        "df_NA.isna().sum()"
      ],
      "metadata": {
        "colab": {
          "base_uri": "https://localhost:8080/"
        },
        "id": "Fq9BMsBMuk7W",
        "outputId": "f344c099-7e82-4333-a292-b9e8e1460fa5"
      },
      "execution_count": 10,
      "outputs": [
        {
          "output_type": "execute_result",
          "data": {
            "text/plain": [
              "Date             0\n",
              "Location         0\n",
              "MinTemp          0\n",
              "MaxTemp          0\n",
              "Rainfall         0\n",
              "Evaporation      0\n",
              "Sunshine         0\n",
              "WindGustDir      0\n",
              "WindGustSpeed    0\n",
              "WindDir9am       0\n",
              "WindDir3pm       0\n",
              "WindSpeed9am     0\n",
              "WindSpeed3pm     0\n",
              "Humidity9am      0\n",
              "Humidity3pm      0\n",
              "Pressure9am      0\n",
              "Pressure3pm      0\n",
              "Cloud9am         0\n",
              "Cloud3pm         0\n",
              "Temp9am          0\n",
              "Temp3pm          0\n",
              "RainToday        0\n",
              "RainTomorrow     0\n",
              "dtype: int64"
            ]
          },
          "metadata": {},
          "execution_count": 10
        }
      ]
    },
    {
      "cell_type": "code",
      "source": [
        "# we have to do some pre processing due to not being able to convert string to float (An error i have experienced many times now trying to run this)\n",
        "#from sklearn.preprocessing import OrdinalEncoder\n",
        "#ord_enc = OrdinalEncoder()\n",
        "#df_NA[\"WindGustDir\"] = ord_enc.fit_transform(df_NA[[\"WindGustDir\"]])\n",
        "#df_NA[\"WindDir9am\"] = ord_enc.fit_transform(df_NA[[\"WindDir9am\"]])\n",
        "#df_NA[\"WindDir3pm\"] = ord_enc.fit_transform(df_NA[[\"WindDir3pm\"]])\n",
        "#df_NA[\"RainTomorrow\"] = ord_enc.fit_transform(df_NA[[\"RainTomorrow\"]])\n",
        "#df_NA[\"RainToday\"] = ord_enc.fit_transform(df_NA[[\"RainToday\"]])"
      ],
      "metadata": {
        "id": "sIr3s67nuk4a"
      },
      "execution_count": null,
      "outputs": []
    },
    {
      "cell_type": "code",
      "source": [
        "# Our dependent variable is a factor of 2 levels (Categorical) so we will first run a KNN model to see what type of accuracy we achieve\n",
        "\n",
        "# We first need to split the data set into train:test:validate 80:10:10\n",
        "train_df, val_df, test_df = np.split(df_NA.sample(frac=1), [int(.80*len(df_NA)), int(.9*len(df_NA))])"
      ],
      "metadata": {
        "id": "NuQPMb6Oukyv"
      },
      "execution_count": 11,
      "outputs": []
    },
    {
      "cell_type": "code",
      "source": [
        "# Check that they contain what we expect 113754:14219:14219\n",
        "print(train_df.shape)\n",
        "print(test_df.shape)\n",
        "print(val_df.shape)\n",
        "print(\"!!CORRECT!!\")"
      ],
      "metadata": {
        "colab": {
          "base_uri": "https://localhost:8080/"
        },
        "id": "r2yCoJWPvJ18",
        "outputId": "4d11554b-06b5-4379-997e-670242f48a7c"
      },
      "execution_count": 12,
      "outputs": [
        {
          "output_type": "stream",
          "name": "stdout",
          "text": [
            "(45136, 23)\n",
            "(5642, 23)\n",
            "(5642, 23)\n",
            "!!CORRECT!!\n"
          ]
        }
      ]
    },
    {
      "cell_type": "code",
      "source": [
        "x_train = train_df[model_features]\n",
        "y_train = train_df[model_target]\n",
        "\n",
        "x_test = test_df[model_features]\n",
        "y_test = test_df[model_target]\n",
        "\n",
        "x_val = val_df[model_features]\n",
        "y_val = val_df[model_target]\n",
        "\n",
        "\n",
        "print(model_features)"
      ],
      "metadata": {
        "colab": {
          "base_uri": "https://localhost:8080/"
        },
        "id": "iZTejIdUvJzX",
        "outputId": "91d9e0e8-217f-4a09-bc71-a9f33a67be2f"
      },
      "execution_count": 13,
      "outputs": [
        {
          "output_type": "stream",
          "name": "stdout",
          "text": [
            "Index(['MinTemp', 'MaxTemp', 'Rainfall', 'Evaporation', 'Sunshine',\n",
            "       'WindGustDir', 'WindGustSpeed', 'WindDir9am', 'WindDir3pm',\n",
            "       'WindSpeed9am', 'WindSpeed3pm', 'Humidity9am', 'Humidity3pm',\n",
            "       'Pressure9am', 'Pressure3pm', 'Cloud9am', 'Cloud3pm', 'Temp9am',\n",
            "       'Temp3pm', 'RainToday'],\n",
            "      dtype='object')\n"
          ]
        }
      ]
    },
    {
      "cell_type": "code",
      "source": [
        "automl = autosklearn.classification.AutoSklearnClassifier()\n",
        "automl.fit(x_train, y_train)"
      ],
      "metadata": {
        "colab": {
          "base_uri": "https://localhost:8080/"
        },
        "id": "_cWusivgvJw0",
        "outputId": "d0bc849f-2fc7-4a77-fc35-61bce112dc30"
      },
      "execution_count": 15,
      "outputs": [
        {
          "output_type": "execute_result",
          "data": {
            "text/plain": [
              "AutoSklearnClassifier(per_run_time_limit=360)"
            ]
          },
          "metadata": {},
          "execution_count": 15
        }
      ]
    },
    {
      "cell_type": "code",
      "source": [
        "print(automl.leaderboard())"
      ],
      "metadata": {
        "colab": {
          "base_uri": "https://localhost:8080/"
        },
        "id": "BqmLTC4wvJug",
        "outputId": "c7dd1acb-c1dd-44fa-8fac-454a5ce9cc08"
      },
      "execution_count": 16,
      "outputs": [
        {
          "output_type": "stream",
          "name": "stdout",
          "text": [
            "          rank  ensemble_weight                 type      cost    duration\n",
            "model_id                                                                  \n",
            "21           1             0.12          extra_trees  0.137899  129.405332\n",
            "12           2             0.08    gradient_boosting  0.139040   17.205127\n",
            "2            3             0.12        random_forest  0.139510   43.211077\n",
            "6            4             0.08    gradient_boosting  0.140785  285.144307\n",
            "16           5             0.06          extra_trees  0.143135   49.722666\n",
            "25           6             0.22                  mlp  0.143337   60.898560\n",
            "26           7             0.08          extra_trees  0.144209   33.277309\n",
            "18           8             0.16    gradient_boosting  0.145351   25.674767\n",
            "28           9             0.02          extra_trees  0.145821   22.319221\n",
            "33          10             0.02   passive_aggressive  0.149648    5.183819\n",
            "24          11             0.02                  lda  0.169050    5.722172\n",
            "32          12             0.02  k_nearest_neighbors  0.170460    7.563825\n"
          ]
        }
      ]
    },
    {
      "cell_type": "code",
      "source": [
        "print(automl.sprint_statistics())"
      ],
      "metadata": {
        "colab": {
          "base_uri": "https://localhost:8080/"
        },
        "id": "-WW4UuRCAJ-t",
        "outputId": "781466f8-78e9-49ef-ef81-a3193abebb02"
      },
      "execution_count": 27,
      "outputs": [
        {
          "output_type": "stream",
          "name": "stdout",
          "text": [
            "auto-sklearn results:\n",
            "  Dataset name: 0601fb3a-b10d-11ec-860c-0242ac1c0002\n",
            "  Metric: accuracy\n",
            "  Best validation score: 0.862101\n",
            "  Number of target algorithm runs: 34\n",
            "  Number of successful target algorithm runs: 28\n",
            "  Number of crashed target algorithm runs: 1\n",
            "  Number of target algorithms that exceeded the time limit: 5\n",
            "  Number of target algorithms that exceeded the memory limit: 0\n",
            "\n"
          ]
        }
      ]
    },
    {
      "cell_type": "code",
      "source": [
        "print(automl.show_models())"
      ],
      "metadata": {
        "colab": {
          "base_uri": "https://localhost:8080/"
        },
        "id": "twvsI0YKvJsC",
        "outputId": "db7cf907-37c5-4e1b-a663-f1fcfdc066d7"
      },
      "execution_count": 22,
      "outputs": [
        {
          "output_type": "stream",
          "name": "stdout",
          "text": [
            "{21: {'model_id': 21, 'rank': 1, 'cost': 0.1378986236992279, 'ensemble_weight': 0.12, 'data_preprocessor': <autosklearn.pipeline.components.data_preprocessing.DataPreprocessorChoice object at 0x7fbdeb5d4810>, 'balancing': Balancing(random_state=1), 'feature_preprocessor': <autosklearn.pipeline.components.feature_preprocessing.FeaturePreprocessorChoice object at 0x7fbdeb8a5350>, 'classifier': <autosklearn.pipeline.components.classification.ClassifierChoice object at 0x7fbdeb8d11d0>, 'sklearn_classifier': ExtraTreesClassifier(bootstrap=True, max_features=120, min_samples_leaf=2,\n",
            "                     min_samples_split=9, n_estimators=512, n_jobs=1,\n",
            "                     random_state=1, warm_start=True)}, 12: {'model_id': 12, 'rank': 2, 'cost': 0.1390399462907016, 'ensemble_weight': 0.08, 'data_preprocessor': <autosklearn.pipeline.components.data_preprocessing.DataPreprocessorChoice object at 0x7fbdeb5d4150>, 'balancing': Balancing(random_state=1), 'feature_preprocessor': <autosklearn.pipeline.components.feature_preprocessing.FeaturePreprocessorChoice object at 0x7fbdeb6bea50>, 'classifier': <autosklearn.pipeline.components.classification.ClassifierChoice object at 0x7fbdeb5e3d10>, 'sklearn_classifier': HistGradientBoostingClassifier(early_stopping=True,\n",
            "                               l2_regularization=2.0357979007621058e-10,\n",
            "                               learning_rate=0.04202246787451397, max_iter=512,\n",
            "                               min_samples_leaf=14, random_state=1,\n",
            "                               validation_fraction=None, warm_start=True)}, 2: {'model_id': 2, 'rank': 3, 'cost': 0.13950990265189656, 'ensemble_weight': 0.12, 'data_preprocessor': <autosklearn.pipeline.components.data_preprocessing.DataPreprocessorChoice object at 0x7fbdeb9e43d0>, 'balancing': Balancing(random_state=1), 'feature_preprocessor': <autosklearn.pipeline.components.feature_preprocessing.FeaturePreprocessorChoice object at 0x7fbdeb6474d0>, 'classifier': <autosklearn.pipeline.components.classification.ClassifierChoice object at 0x7fbdeb647a90>, 'sklearn_classifier': RandomForestClassifier(max_features=8, n_estimators=512, n_jobs=1,\n",
            "                       random_state=1, warm_start=True)}, 6: {'model_id': 6, 'rank': 4, 'cost': 0.140785498489426, 'ensemble_weight': 0.08, 'data_preprocessor': <autosklearn.pipeline.components.data_preprocessing.DataPreprocessorChoice object at 0x7fbdeb92ac10>, 'balancing': Balancing(random_state=1), 'feature_preprocessor': <autosklearn.pipeline.components.feature_preprocessing.FeaturePreprocessorChoice object at 0x7fbdeb6d3710>, 'classifier': <autosklearn.pipeline.components.classification.ClassifierChoice object at 0x7fbdeb6d3690>, 'sklearn_classifier': HistGradientBoostingClassifier(early_stopping=False,\n",
            "                               l2_regularization=3.7641254742702506e-10,\n",
            "                               learning_rate=0.06052285540639966, max_iter=512,\n",
            "                               max_leaf_nodes=14, min_samples_leaf=17,\n",
            "                               n_iter_no_change=0, random_state=1,\n",
            "                               validation_fraction=None, warm_start=True)}, 16: {'model_id': 16, 'rank': 5, 'cost': 0.14313528029540112, 'ensemble_weight': 0.06, 'data_preprocessor': <autosklearn.pipeline.components.data_preprocessing.DataPreprocessorChoice object at 0x7fbdeb71ced0>, 'balancing': Balancing(random_state=1, strategy='weighting'), 'feature_preprocessor': <autosklearn.pipeline.components.feature_preprocessing.FeaturePreprocessorChoice object at 0x7fbdeb763c50>, 'classifier': <autosklearn.pipeline.components.classification.ClassifierChoice object at 0x7fbdea030f90>, 'sklearn_classifier': ExtraTreesClassifier(criterion='entropy', max_features=17, min_samples_leaf=2,\n",
            "                     min_samples_split=6, n_estimators=512, n_jobs=1,\n",
            "                     random_state=1, warm_start=True)}, 25: {'model_id': 25, 'rank': 6, 'cost': 0.1433366901644847, 'ensemble_weight': 0.22, 'data_preprocessor': <autosklearn.pipeline.components.data_preprocessing.DataPreprocessorChoice object at 0x7fbdeb8c5990>, 'balancing': Balancing(random_state=1), 'feature_preprocessor': <autosklearn.pipeline.components.feature_preprocessing.FeaturePreprocessorChoice object at 0x7fbde9fb92d0>, 'classifier': <autosklearn.pipeline.components.classification.ClassifierChoice object at 0x7fbde9fb9990>, 'sklearn_classifier': MLPClassifier(activation='tanh', alpha=0.004046109807229298, beta_1=0.999,\n",
            "              beta_2=0.9, hidden_layer_sizes=(17, 17, 17),\n",
            "              learning_rate_init=0.00010292125690429162, max_iter=128,\n",
            "              n_iter_no_change=32, random_state=1, validation_fraction=0.0,\n",
            "              verbose=0, warm_start=True)}, 26: {'model_id': 26, 'rank': 7, 'cost': 0.1442094662638469, 'ensemble_weight': 0.08, 'data_preprocessor': <autosklearn.pipeline.components.data_preprocessing.DataPreprocessorChoice object at 0x7fbdeb73b610>, 'balancing': Balancing(random_state=1), 'feature_preprocessor': <autosklearn.pipeline.components.feature_preprocessing.FeaturePreprocessorChoice object at 0x7fbde9d8ec10>, 'classifier': <autosklearn.pipeline.components.classification.ClassifierChoice object at 0x7fbde9fdb190>, 'sklearn_classifier': ExtraTreesClassifier(criterion='entropy', max_features=9, min_samples_leaf=2,\n",
            "                     min_samples_split=15, n_estimators=512, n_jobs=1,\n",
            "                     random_state=1, warm_start=True)}, 18: {'model_id': 18, 'rank': 8, 'cost': 0.1453507888553206, 'ensemble_weight': 0.16, 'data_preprocessor': <autosklearn.pipeline.components.data_preprocessing.DataPreprocessorChoice object at 0x7fbde9fd31d0>, 'balancing': Balancing(random_state=1), 'feature_preprocessor': <autosklearn.pipeline.components.feature_preprocessing.FeaturePreprocessorChoice object at 0x7fbdeb6f2a10>, 'classifier': <autosklearn.pipeline.components.classification.ClassifierChoice object at 0x7fbdeb659750>, 'sklearn_classifier': HistGradientBoostingClassifier(early_stopping=True,\n",
            "                               l2_regularization=8.057778875694463e-05,\n",
            "                               learning_rate=0.09179220974965213, max_iter=64,\n",
            "                               max_leaf_nodes=200, n_iter_no_change=18,\n",
            "                               random_state=1,\n",
            "                               validation_fraction=0.14295295806077554,\n",
            "                               warm_start=True)}, 28: {'model_id': 28, 'rank': 9, 'cost': 0.14582074521651556, 'ensemble_weight': 0.02, 'data_preprocessor': <autosklearn.pipeline.components.data_preprocessing.DataPreprocessorChoice object at 0x7fbde9fe71d0>, 'balancing': Balancing(random_state=1), 'feature_preprocessor': <autosklearn.pipeline.components.feature_preprocessing.FeaturePreprocessorChoice object at 0x7fbde8544890>, 'classifier': <autosklearn.pipeline.components.classification.ClassifierChoice object at 0x7fbde85444d0>, 'sklearn_classifier': ExtraTreesClassifier(criterion='entropy', max_features=4, min_samples_leaf=7,\n",
            "                     min_samples_split=20, n_estimators=512, n_jobs=1,\n",
            "                     random_state=1, warm_start=True)}, 33: {'model_id': 33, 'rank': 10, 'cost': 0.1496475327291037, 'ensemble_weight': 0.02, 'data_preprocessor': <autosklearn.pipeline.components.data_preprocessing.DataPreprocessorChoice object at 0x7fbdeb6cba50>, 'balancing': Balancing(random_state=1), 'feature_preprocessor': <autosklearn.pipeline.components.feature_preprocessing.FeaturePreprocessorChoice object at 0x7fbde8554210>, 'classifier': <autosklearn.pipeline.components.classification.ClassifierChoice object at 0x7fbde8554850>, 'sklearn_classifier': PassiveAggressiveClassifier(C=3.3448013371125125e-05, max_iter=16,\n",
            "                            random_state=1, tol=0.001291485286697124,\n",
            "                            warm_start=True)}, 24: {'model_id': 24, 'rank': 11, 'cost': 0.16905001678415577, 'ensemble_weight': 0.02, 'data_preprocessor': <autosklearn.pipeline.components.data_preprocessing.DataPreprocessorChoice object at 0x7fbde8542850>, 'balancing': Balancing(random_state=1, strategy='weighting'), 'feature_preprocessor': <autosklearn.pipeline.components.feature_preprocessing.FeaturePreprocessorChoice object at 0x7fbde81bd910>, 'classifier': <autosklearn.pipeline.components.classification.ClassifierChoice object at 0x7fbde81bde50>, 'sklearn_classifier': LinearDiscriminantAnalysis(shrinkage='auto', solver='lsqr',\n",
            "                           tol=0.06502391592449622)}, 32: {'model_id': 32, 'rank': 12, 'cost': 0.17045988586774086, 'ensemble_weight': 0.02, 'data_preprocessor': <autosklearn.pipeline.components.data_preprocessing.DataPreprocessorChoice object at 0x7fbde850ca50>, 'balancing': Balancing(random_state=1), 'feature_preprocessor': <autosklearn.pipeline.components.feature_preprocessing.FeaturePreprocessorChoice object at 0x7fbde7def8d0>, 'classifier': <autosklearn.pipeline.components.classification.ClassifierChoice object at 0x7fbde7df28d0>, 'sklearn_classifier': KNeighborsClassifier(n_neighbors=7, weights='distance')}}\n"
          ]
        }
      ]
    },
    {
      "cell_type": "code",
      "source": [
        "predictions = automl.predict(x_test)"
      ],
      "metadata": {
        "id": "iVzr_AI5vJpW"
      },
      "execution_count": 23,
      "outputs": []
    },
    {
      "cell_type": "code",
      "source": [
        "print(\"Accuracy score\", sklearn.metrics.accuracy_score(y_test, predictions))"
      ],
      "metadata": {
        "colab": {
          "base_uri": "https://localhost:8080/"
        },
        "id": "u_qlhl8VvJmt",
        "outputId": "c74098a3-c557-48c5-ea3c-f0e2439a298c"
      },
      "execution_count": 25,
      "outputs": [
        {
          "output_type": "stream",
          "name": "stdout",
          "text": [
            "Accuracy score 0.8642325416518964\n"
          ]
        }
      ]
    },
    {
      "cell_type": "code",
      "source": [
        ""
      ],
      "metadata": {
        "id": "PidMmafRvJkE"
      },
      "execution_count": null,
      "outputs": []
    },
    {
      "cell_type": "code",
      "source": [
        ""
      ],
      "metadata": {
        "id": "BEKYjNLIvJhY"
      },
      "execution_count": null,
      "outputs": []
    },
    {
      "cell_type": "code",
      "source": [
        ""
      ],
      "metadata": {
        "id": "T193MXdRvJbK"
      },
      "execution_count": null,
      "outputs": []
    }
  ]
}