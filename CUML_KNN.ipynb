{
 "cells": [
  {
   "cell_type": "code",
   "execution_count": 2,
   "id": "bac02654-8b1f-473d-b8bf-edb951561f85",
   "metadata": {
    "execution": {
     "iopub.execute_input": "2022-04-19T09:18:11.730979Z",
     "iopub.status.busy": "2022-04-19T09:18:11.730641Z",
     "iopub.status.idle": "2022-04-19T09:18:12.566581Z",
     "shell.execute_reply": "2022-04-19T09:18:12.565893Z",
     "shell.execute_reply.started": "2022-04-19T09:18:11.730954Z"
    },
    "tags": []
   },
   "outputs": [
    {
     "name": "stdout",
     "output_type": "stream",
     "text": [
      "Tue Apr 19 09:18:12 2022       \n",
      "+-----------------------------------------------------------------------------+\n",
      "| NVIDIA-SMI 470.57.02    Driver Version: 470.57.02    CUDA Version: 11.4     |\n",
      "|-------------------------------+----------------------+----------------------+\n",
      "| GPU  Name        Persistence-M| Bus-Id        Disp.A | Volatile Uncorr. ECC |\n",
      "| Fan  Temp  Perf  Pwr:Usage/Cap|         Memory-Usage | GPU-Util  Compute M. |\n",
      "|                               |                      |               MIG M. |\n",
      "|===============================+======================+======================|\n",
      "|   0  Tesla T4            On   | 00000000:00:1E.0 Off |                    0 |\n",
      "| N/A   24C    P8     9W /  70W |      0MiB / 15109MiB |      0%      Default |\n",
      "|                               |                      |                  N/A |\n",
      "+-------------------------------+----------------------+----------------------+\n",
      "                                                                               \n",
      "+-----------------------------------------------------------------------------+\n",
      "| Processes:                                                                  |\n",
      "|  GPU   GI   CI        PID   Type   Process name                  GPU Memory |\n",
      "|        ID   ID                                                   Usage      |\n",
      "|=============================================================================|\n",
      "|  No running processes found                                                 |\n",
      "+-----------------------------------------------------------------------------+\n"
     ]
    }
   ],
   "source": [
    "# checking the GPU type for Tesla T4\n",
    "!nvidia-smi"
   ]
  },
  {
   "cell_type": "code",
   "execution_count": 79,
   "id": "d895a8c8-6f64-4c7a-9515-023cf5ba8419",
   "metadata": {
    "execution": {
     "iopub.execute_input": "2022-04-19T09:38:05.604887Z",
     "iopub.status.busy": "2022-04-19T09:38:05.604443Z",
     "iopub.status.idle": "2022-04-19T09:38:05.609204Z",
     "shell.execute_reply": "2022-04-19T09:38:05.608553Z",
     "shell.execute_reply.started": "2022-04-19T09:38:05.604854Z"
    },
    "tags": []
   },
   "outputs": [],
   "source": [
    "# start some coding\n",
    "\n",
    "import cudf\n",
    "import cuml\n",
    "\n",
    "import cupy as cp\n",
    "import numpy as np\n",
    "import matplotlib.pyplot as plt"
   ]
  },
  {
   "cell_type": "code",
   "execution_count": 112,
   "id": "79ba813c-9ed7-4d91-8f01-e82318c2bbe9",
   "metadata": {
    "execution": {
     "iopub.execute_input": "2022-04-19T09:42:10.290326Z",
     "iopub.status.busy": "2022-04-19T09:42:10.290014Z",
     "iopub.status.idle": "2022-04-19T09:42:10.593203Z",
     "shell.execute_reply": "2022-04-19T09:42:10.592586Z",
     "shell.execute_reply.started": "2022-04-19T09:42:10.290297Z"
    },
    "tags": []
   },
   "outputs": [],
   "source": [
    "url = \"https://raw.githubusercontent.com/BUCKERS99/C7084-Big-data--Will-it-rain-tomorrow-/main/weather_data.csv\"\n",
    "df = cudf.read_csv(url)\n",
    "# print(c)"
   ]
  },
  {
   "cell_type": "code",
   "execution_count": 113,
   "id": "b1730e8c-a655-4327-b16f-54db5f3e0ebe",
   "metadata": {
    "execution": {
     "iopub.execute_input": "2022-04-19T09:42:11.197256Z",
     "iopub.status.busy": "2022-04-19T09:42:11.196939Z",
     "iopub.status.idle": "2022-04-19T09:42:11.219182Z",
     "shell.execute_reply": "2022-04-19T09:42:11.218583Z",
     "shell.execute_reply.started": "2022-04-19T09:42:11.197231Z"
    },
    "tags": []
   },
   "outputs": [
    {
     "name": "stdout",
     "output_type": "stream",
     "text": [
      "<class 'cudf.core.dataframe.DataFrame'>\n",
      "RangeIndex: 145460 entries, 0 to 145459\n",
      "Data columns (total 23 columns):\n",
      " #   Column         Non-Null Count   Dtype\n",
      "---  ------         --------------   -----\n",
      " 0   Date           145460 non-null  object\n",
      " 1   Location       145460 non-null  object\n",
      " 2   MinTemp        143975 non-null  float64\n",
      " 3   MaxTemp        144199 non-null  float64\n",
      " 4   Rainfall       142199 non-null  float64\n",
      " 5   Evaporation    82670 non-null   float64\n",
      " 6   Sunshine       75625 non-null   float64\n",
      " 7   WindGustDir    135134 non-null  object\n",
      " 8   WindGustSpeed  135197 non-null  float64\n",
      " 9   WindDir9am     134894 non-null  object\n",
      " 10  WindDir3pm     141232 non-null  object\n",
      " 11  WindSpeed9am   143693 non-null  float64\n",
      " 12  WindSpeed3pm   142398 non-null  float64\n",
      " 13  Humidity9am    142806 non-null  float64\n",
      " 14  Humidity3pm    140953 non-null  float64\n",
      " 15  Pressure9am    130395 non-null  float64\n",
      " 16  Pressure3pm    130432 non-null  float64\n",
      " 17  Cloud9am       89572 non-null   float64\n",
      " 18  Cloud3pm       86102 non-null   float64\n",
      " 19  Temp9am        143693 non-null  float64\n",
      " 20  Temp3pm        141851 non-null  float64\n",
      " 21  RainToday      142199 non-null  object\n",
      " 22  RainTomorrow   142193 non-null  object\n",
      "dtypes: float64(16), object(7)\n",
      "memory usage: 26.1+ MB\n"
     ]
    }
   ],
   "source": [
    "df.info()"
   ]
  },
  {
   "cell_type": "code",
   "execution_count": 114,
   "id": "89af07c6-6c22-45b7-8fd1-80facc908611",
   "metadata": {
    "execution": {
     "iopub.execute_input": "2022-04-19T09:42:12.094610Z",
     "iopub.status.busy": "2022-04-19T09:42:12.094249Z",
     "iopub.status.idle": "2022-04-19T09:42:12.099926Z",
     "shell.execute_reply": "2022-04-19T09:42:12.099225Z",
     "shell.execute_reply.started": "2022-04-19T09:42:12.094580Z"
    },
    "tags": []
   },
   "outputs": [
    {
     "name": "stdout",
     "output_type": "stream",
     "text": [
      "Model features:  Index(['Location', 'MinTemp', 'MaxTemp', 'Rainfall', 'Evaporation', 'Sunshine',\n",
      "       'WindGustDir', 'WindGustSpeed', 'WindDir9am', 'WindDir3pm',\n",
      "       'WindSpeed9am', 'WindSpeed3pm', 'Humidity9am', 'Humidity3pm',\n",
      "       'Pressure9am', 'Pressure3pm', 'Cloud9am', 'Cloud3pm', 'Temp9am',\n",
      "       'Temp3pm', 'RainToday'],\n",
      "      dtype='object')\n",
      "Model target:  RainTomorrow\n"
     ]
    }
   ],
   "source": [
    "# separate the model features and target\n",
    "model_features = df.columns.drop(['RainTomorrow','Date'])\n",
    "model_target = 'RainTomorrow'\n",
    "\n",
    "print('Model features: ', model_features)\n",
    "print('Model target: ', model_target)"
   ]
  },
  {
   "cell_type": "code",
   "execution_count": 115,
   "id": "fd0cf165-18fe-4fe6-885f-f7bed1222a89",
   "metadata": {
    "execution": {
     "iopub.execute_input": "2022-04-19T09:42:12.724928Z",
     "iopub.status.busy": "2022-04-19T09:42:12.724592Z",
     "iopub.status.idle": "2022-04-19T09:42:12.734204Z",
     "shell.execute_reply": "2022-04-19T09:42:12.733708Z",
     "shell.execute_reply.started": "2022-04-19T09:42:12.724899Z"
    },
    "tags": []
   },
   "outputs": [],
   "source": [
    "df_NA = df.dropna(subset=[\"RainTomorrow\"])"
   ]
  },
  {
   "cell_type": "code",
   "execution_count": 116,
   "id": "9a709f07-f037-4577-b8c4-bd1f33bc905d",
   "metadata": {
    "execution": {
     "iopub.execute_input": "2022-04-19T09:42:13.259256Z",
     "iopub.status.busy": "2022-04-19T09:42:13.258941Z",
     "iopub.status.idle": "2022-04-19T09:42:13.322480Z",
     "shell.execute_reply": "2022-04-19T09:42:13.321943Z",
     "shell.execute_reply.started": "2022-04-19T09:42:13.259229Z"
    },
    "tags": []
   },
   "outputs": [],
   "source": [
    "df_NA['RainTomorrow'] = df_NA['RainTomorrow'].astype('category')\n",
    "df_NA['RainToday'] = df_NA['RainToday'].astype('category')\n",
    "df_NA['WindGustDir'] = df_NA['WindGustDir'].astype('category')\n",
    "df_NA['WindDir9am'] = df_NA['WindDir9am'].astype('category')\n",
    "df_NA['WindDir3pm'] = df_NA['WindDir3pm'].astype('category')\n",
    "df_NA['Location'] = df_NA['Location'].astype('category')\n",
    "df_NA['Date'] = df_NA['Date'].astype('category')"
   ]
  },
  {
   "cell_type": "code",
   "execution_count": 117,
   "id": "25afd9c1-23be-4d81-a95c-1564b04fa48c",
   "metadata": {
    "execution": {
     "iopub.execute_input": "2022-04-19T09:42:13.749651Z",
     "iopub.status.busy": "2022-04-19T09:42:13.749340Z",
     "iopub.status.idle": "2022-04-19T09:42:13.772927Z",
     "shell.execute_reply": "2022-04-19T09:42:13.772210Z",
     "shell.execute_reply.started": "2022-04-19T09:42:13.749627Z"
    },
    "tags": []
   },
   "outputs": [
    {
     "name": "stdout",
     "output_type": "stream",
     "text": [
      "<class 'cudf.core.dataframe.DataFrame'>\n",
      "Int64Index: 142193 entries, 0 to 145458\n",
      "Data columns (total 23 columns):\n",
      " #   Column         Non-Null Count   Dtype\n",
      "---  ------         --------------   -----\n",
      " 0   Date           142193 non-null  category\n",
      " 1   Location       142193 non-null  category\n",
      " 2   MinTemp        141556 non-null  float64\n",
      " 3   MaxTemp        141871 non-null  float64\n",
      " 4   Rainfall       140787 non-null  float64\n",
      " 5   Evaporation    81350 non-null   float64\n",
      " 6   Sunshine       74377 non-null   float64\n",
      " 7   WindGustDir    132863 non-null  category\n",
      " 8   WindGustSpeed  132923 non-null  float64\n",
      " 9   WindDir9am     132180 non-null  category\n",
      " 10  WindDir3pm     138415 non-null  category\n",
      " 11  WindSpeed9am   140845 non-null  float64\n",
      " 12  WindSpeed3pm   139563 non-null  float64\n",
      " 13  Humidity9am    140419 non-null  float64\n",
      " 14  Humidity3pm    138583 non-null  float64\n",
      " 15  Pressure9am    128179 non-null  float64\n",
      " 16  Pressure3pm    128212 non-null  float64\n",
      " 17  Cloud9am       88536 non-null   float64\n",
      " 18  Cloud3pm       85099 non-null   float64\n",
      " 19  Temp9am        141289 non-null  float64\n",
      " 20  Temp3pm        139467 non-null  float64\n",
      " 21  RainToday      140787 non-null  category\n",
      " 22  RainTomorrow   142193 non-null  category\n",
      "dtypes: category(7), float64(16)\n",
      "memory usage: 19.9 MB\n"
     ]
    }
   ],
   "source": [
    "df_NA.info()"
   ]
  },
  {
   "cell_type": "code",
   "execution_count": 118,
   "id": "49551e29-d8b7-468e-8a90-af16a00c4739",
   "metadata": {
    "execution": {
     "iopub.execute_input": "2022-04-19T09:42:14.654261Z",
     "iopub.status.busy": "2022-04-19T09:42:14.653937Z",
     "iopub.status.idle": "2022-04-19T09:42:14.680948Z",
     "shell.execute_reply": "2022-04-19T09:42:14.680331Z",
     "shell.execute_reply.started": "2022-04-19T09:42:14.654236Z"
    },
    "tags": []
   },
   "outputs": [
    {
     "name": "stdout",
     "output_type": "stream",
     "text": [
      "<class 'cudf.core.dataframe.DataFrame'>\n",
      "Int64Index: 56420 entries, 6049 to 142302\n",
      "Data columns (total 23 columns):\n",
      " #   Column         Non-Null Count  Dtype\n",
      "---  ------         --------------  -----\n",
      " 0   Date           56420 non-null  category\n",
      " 1   Location       56420 non-null  category\n",
      " 2   MinTemp        56420 non-null  float64\n",
      " 3   MaxTemp        56420 non-null  float64\n",
      " 4   Rainfall       56420 non-null  float64\n",
      " 5   Evaporation    56420 non-null  float64\n",
      " 6   Sunshine       56420 non-null  float64\n",
      " 7   WindGustDir    56420 non-null  category\n",
      " 8   WindGustSpeed  56420 non-null  float64\n",
      " 9   WindDir9am     56420 non-null  category\n",
      " 10  WindDir3pm     56420 non-null  category\n",
      " 11  WindSpeed9am   56420 non-null  float64\n",
      " 12  WindSpeed3pm   56420 non-null  float64\n",
      " 13  Humidity9am    56420 non-null  float64\n",
      " 14  Humidity3pm    56420 non-null  float64\n",
      " 15  Pressure9am    56420 non-null  float64\n",
      " 16  Pressure3pm    56420 non-null  float64\n",
      " 17  Cloud9am       56420 non-null  float64\n",
      " 18  Cloud3pm       56420 non-null  float64\n",
      " 19  Temp9am        56420 non-null  float64\n",
      " 20  Temp3pm        56420 non-null  float64\n",
      " 21  RainToday      56420 non-null  category\n",
      " 22  RainTomorrow   56420 non-null  category\n",
      "dtypes: category(7), float64(16)\n",
      "memory usage: 7.8 MB\n"
     ]
    }
   ],
   "source": [
    "df_NA = df_NA.dropna()\n",
    "df_NA.info()"
   ]
  },
  {
   "cell_type": "code",
   "execution_count": 119,
   "id": "5955afb9-8940-43c7-98fc-4019ea2f65dc",
   "metadata": {
    "execution": {
     "iopub.execute_input": "2022-04-19T09:42:15.729116Z",
     "iopub.status.busy": "2022-04-19T09:42:15.728799Z",
     "iopub.status.idle": "2022-04-19T09:42:15.732191Z",
     "shell.execute_reply": "2022-04-19T09:42:15.731475Z",
     "shell.execute_reply.started": "2022-04-19T09:42:15.729092Z"
    },
    "tags": []
   },
   "outputs": [],
   "source": [
    "# categorical variables need encoding"
   ]
  },
  {
   "cell_type": "code",
   "execution_count": 120,
   "id": "bc0f5a35-57af-461a-bf6a-eecc2c844516",
   "metadata": {
    "execution": {
     "iopub.execute_input": "2022-04-19T09:42:16.601017Z",
     "iopub.status.busy": "2022-04-19T09:42:16.600660Z",
     "iopub.status.idle": "2022-04-19T09:42:16.629939Z",
     "shell.execute_reply": "2022-04-19T09:42:16.629319Z",
     "shell.execute_reply.started": "2022-04-19T09:42:16.600991Z"
    },
    "tags": []
   },
   "outputs": [],
   "source": [
    "df_NA['WindGustDir'] = df_NA.WindGustDir.cat.codes\n",
    "codes = df_NA.WindGustDir.unique()\n",
    "enc_df = df_NA.one_hot_encoding('WindGustDir', 'WindGustDir_codes', codes)"
   ]
  },
  {
   "cell_type": "code",
   "execution_count": 121,
   "id": "e9c66dee-6dc2-4655-8757-2d424f4f0efc",
   "metadata": {
    "execution": {
     "iopub.execute_input": "2022-04-19T09:42:16.973902Z",
     "iopub.status.busy": "2022-04-19T09:42:16.973602Z",
     "iopub.status.idle": "2022-04-19T09:42:17.003462Z",
     "shell.execute_reply": "2022-04-19T09:42:17.002706Z",
     "shell.execute_reply.started": "2022-04-19T09:42:16.973876Z"
    },
    "tags": []
   },
   "outputs": [],
   "source": [
    "df_NA['WindDir9am'] = df_NA.WindDir9am.cat.codes\n",
    "codes = df_NA.WindDir9am.unique()\n",
    "enc_df = df_NA.one_hot_encoding('WindDir9am', 'WindDir9am_codes', codes)"
   ]
  },
  {
   "cell_type": "code",
   "execution_count": 122,
   "id": "654db291-d3a9-498c-8983-6634b99f1f97",
   "metadata": {
    "execution": {
     "iopub.execute_input": "2022-04-19T09:42:17.354053Z",
     "iopub.status.busy": "2022-04-19T09:42:17.353738Z",
     "iopub.status.idle": "2022-04-19T09:42:17.380032Z",
     "shell.execute_reply": "2022-04-19T09:42:17.379472Z",
     "shell.execute_reply.started": "2022-04-19T09:42:17.354028Z"
    },
    "tags": []
   },
   "outputs": [],
   "source": [
    "df_NA['WindDir3pm'] = df_NA.WindDir3pm.cat.codes\n",
    "codes = df_NA.WindDir3pm.unique()\n",
    "enc_df = df_NA.one_hot_encoding('WindDir3pm', 'WindDir3pm_codes', codes)"
   ]
  },
  {
   "cell_type": "code",
   "execution_count": 123,
   "id": "20ee1576-2035-4721-b0c3-e83dd71183aa",
   "metadata": {
    "execution": {
     "iopub.execute_input": "2022-04-19T09:42:17.701527Z",
     "iopub.status.busy": "2022-04-19T09:42:17.701203Z",
     "iopub.status.idle": "2022-04-19T09:42:17.713578Z",
     "shell.execute_reply": "2022-04-19T09:42:17.713041Z",
     "shell.execute_reply.started": "2022-04-19T09:42:17.701500Z"
    },
    "tags": []
   },
   "outputs": [],
   "source": [
    "df_NA['RainTomorrow'] = df_NA.RainTomorrow.cat.codes\n",
    "codes = df_NA.RainTomorrow.unique()\n",
    "enc_df = df_NA.one_hot_encoding('RainTomorrow', 'RainTomorrow_codes', codes)"
   ]
  },
  {
   "cell_type": "code",
   "execution_count": 124,
   "id": "bf344644-583b-4c36-a145-df7ff0a976a0",
   "metadata": {
    "execution": {
     "iopub.execute_input": "2022-04-19T09:42:18.081712Z",
     "iopub.status.busy": "2022-04-19T09:42:18.081397Z",
     "iopub.status.idle": "2022-04-19T09:42:18.092202Z",
     "shell.execute_reply": "2022-04-19T09:42:18.091618Z",
     "shell.execute_reply.started": "2022-04-19T09:42:18.081685Z"
    },
    "tags": []
   },
   "outputs": [],
   "source": [
    "df_NA['RainToday'] = df_NA.RainToday.cat.codes\n",
    "codes = df_NA.RainToday.unique()\n",
    "enc_df = df_NA.one_hot_encoding('RainToday', 'RainToday_codes', codes)"
   ]
  },
  {
   "cell_type": "code",
   "execution_count": 125,
   "id": "648e24a7-4ffa-41a8-87c5-88c960e8e84b",
   "metadata": {
    "execution": {
     "iopub.execute_input": "2022-04-19T09:42:18.715095Z",
     "iopub.status.busy": "2022-04-19T09:42:18.714769Z",
     "iopub.status.idle": "2022-04-19T09:42:22.990000Z",
     "shell.execute_reply": "2022-04-19T09:42:22.989436Z",
     "shell.execute_reply.started": "2022-04-19T09:42:18.715068Z"
    },
    "tags": []
   },
   "outputs": [],
   "source": [
    "df_NA['Date'] = df_NA.Date.cat.codes\n",
    "codes = df_NA.Date.unique()\n",
    "enc_df = df_NA.one_hot_encoding('Date', 'Date_codes', codes)"
   ]
  },
  {
   "cell_type": "code",
   "execution_count": 126,
   "id": "199c8b46-2f6c-4b17-a38f-e96af0d686c0",
   "metadata": {
    "execution": {
     "iopub.execute_input": "2022-04-19T09:42:22.991988Z",
     "iopub.status.busy": "2022-04-19T09:42:22.991427Z",
     "iopub.status.idle": "2022-04-19T09:42:23.105286Z",
     "shell.execute_reply": "2022-04-19T09:42:23.104663Z",
     "shell.execute_reply.started": "2022-04-19T09:42:22.991949Z"
    },
    "tags": []
   },
   "outputs": [],
   "source": [
    "df_NA['Location'] = df_NA.Location.cat.codes\n",
    "codes = df_NA.Location.unique()\n",
    "enc_df = df_NA.one_hot_encoding('Location', 'Location_codes', codes)"
   ]
  },
  {
   "cell_type": "code",
   "execution_count": 141,
   "id": "da5a12d8-fdfe-4201-9991-fdd5b003cae7",
   "metadata": {
    "execution": {
     "iopub.execute_input": "2022-04-19T09:45:31.974601Z",
     "iopub.status.busy": "2022-04-19T09:45:31.974285Z",
     "iopub.status.idle": "2022-04-19T09:45:31.993110Z",
     "shell.execute_reply": "2022-04-19T09:45:31.992391Z",
     "shell.execute_reply.started": "2022-04-19T09:45:31.974575Z"
    },
    "tags": []
   },
   "outputs": [
    {
     "name": "stdout",
     "output_type": "stream",
     "text": [
      "Time: 0.014074563980102539\n"
     ]
    }
   ],
   "source": [
    "import time\n",
    "start = time.time()\n",
    "\n",
    "from cuml import make_regression, train_test_split\n",
    "X_train, X_test, y_train, y_test  = cuml.train_test_split(df_NA[['MinTemp', 'MaxTemp', 'Rainfall', 'Evaporation', 'Sunshine',\n",
    "       'WindGustDir', 'WindGustSpeed', 'WindDir9am', 'WindDir3pm',\n",
    "       'WindSpeed9am', 'WindSpeed3pm', 'Humidity9am', 'Humidity3pm',\n",
    "       'Pressure9am', 'Pressure3pm', 'Cloud9am', 'Cloud3pm', 'Temp9am',\n",
    "       'Temp3pm', 'RainToday']], df_NA['RainTomorrow'], train_size=0.8)\n",
    "\n",
    "print(f'Time: {time.time() - start}')"
   ]
  },
  {
   "cell_type": "code",
   "execution_count": 128,
   "id": "7ec4a7da-8d53-4c8e-be96-b53f88e486c6",
   "metadata": {
    "execution": {
     "iopub.execute_input": "2022-04-19T09:42:23.124089Z",
     "iopub.status.busy": "2022-04-19T09:42:23.123870Z",
     "iopub.status.idle": "2022-04-19T09:42:23.140002Z",
     "shell.execute_reply": "2022-04-19T09:42:23.139368Z",
     "shell.execute_reply.started": "2022-04-19T09:42:23.124068Z"
    },
    "tags": []
   },
   "outputs": [
    {
     "name": "stdout",
     "output_type": "stream",
     "text": [
      "<class 'cudf.core.dataframe.DataFrame'>\n",
      "Int64Index: 11284 entries, 33832 to 21671\n",
      "Data columns (total 20 columns):\n",
      " #   Column         Non-Null Count  Dtype\n",
      "---  ------         --------------  -----\n",
      " 0   MinTemp        11284 non-null  float64\n",
      " 1   MaxTemp        11284 non-null  float64\n",
      " 2   Rainfall       11284 non-null  float64\n",
      " 3   Evaporation    11284 non-null  float64\n",
      " 4   Sunshine       11284 non-null  float64\n",
      " 5   WindGustDir    11284 non-null  uint8\n",
      " 6   WindGustSpeed  11284 non-null  float64\n",
      " 7   WindDir9am     11284 non-null  uint8\n",
      " 8   WindDir3pm     11284 non-null  uint8\n",
      " 9   WindSpeed9am   11284 non-null  float64\n",
      " 10  WindSpeed3pm   11284 non-null  float64\n",
      " 11  Humidity9am    11284 non-null  float64\n",
      " 12  Humidity3pm    11284 non-null  float64\n",
      " 13  Pressure9am    11284 non-null  float64\n",
      " 14  Pressure3pm    11284 non-null  float64\n",
      " 15  Cloud9am       11284 non-null  float64\n",
      " 16  Cloud3pm       11284 non-null  float64\n",
      " 17  Temp9am        11284 non-null  float64\n",
      " 18  Temp3pm        11284 non-null  float64\n",
      " 19  RainToday      11284 non-null  uint8\n",
      "dtypes: float64(16), uint8(4)\n",
      "memory usage: 1.5 MB\n"
     ]
    }
   ],
   "source": [
    "X_test.info()"
   ]
  },
  {
   "cell_type": "code",
   "execution_count": 129,
   "id": "baa405af-b0fc-484d-a697-a461884cb737",
   "metadata": {
    "execution": {
     "iopub.execute_input": "2022-04-19T09:42:23.141623Z",
     "iopub.status.busy": "2022-04-19T09:42:23.141064Z",
     "iopub.status.idle": "2022-04-19T09:42:23.160118Z",
     "shell.execute_reply": "2022-04-19T09:42:23.159643Z",
     "shell.execute_reply.started": "2022-04-19T09:42:23.141580Z"
    },
    "tags": []
   },
   "outputs": [
    {
     "name": "stdout",
     "output_type": "stream",
     "text": [
      "<class 'cudf.core.dataframe.DataFrame'>\n",
      "Int64Index: 45136 entries, 118055 to 132111\n",
      "Data columns (total 20 columns):\n",
      " #   Column         Non-Null Count  Dtype\n",
      "---  ------         --------------  -----\n",
      " 0   MinTemp        45136 non-null  float64\n",
      " 1   MaxTemp        45136 non-null  float64\n",
      " 2   Rainfall       45136 non-null  float64\n",
      " 3   Evaporation    45136 non-null  float64\n",
      " 4   Sunshine       45136 non-null  float64\n",
      " 5   WindGustDir    45136 non-null  uint8\n",
      " 6   WindGustSpeed  45136 non-null  float64\n",
      " 7   WindDir9am     45136 non-null  uint8\n",
      " 8   WindDir3pm     45136 non-null  uint8\n",
      " 9   WindSpeed9am   45136 non-null  float64\n",
      " 10  WindSpeed3pm   45136 non-null  float64\n",
      " 11  Humidity9am    45136 non-null  float64\n",
      " 12  Humidity3pm    45136 non-null  float64\n",
      " 13  Pressure9am    45136 non-null  float64\n",
      " 14  Pressure3pm    45136 non-null  float64\n",
      " 15  Cloud9am       45136 non-null  float64\n",
      " 16  Cloud3pm       45136 non-null  float64\n",
      " 17  Temp9am        45136 non-null  float64\n",
      " 18  Temp3pm        45136 non-null  float64\n",
      " 19  RainToday      45136 non-null  uint8\n",
      "dtypes: float64(16), uint8(4)\n",
      "memory usage: 6.0 MB\n"
     ]
    }
   ],
   "source": [
    "X_train.info()"
   ]
  },
  {
   "cell_type": "code",
   "execution_count": 131,
   "id": "11f0218e-abb9-4113-9fb0-b02b4c8184a7",
   "metadata": {
    "execution": {
     "iopub.execute_input": "2022-04-19T09:42:42.398877Z",
     "iopub.status.busy": "2022-04-19T09:42:42.398569Z",
     "iopub.status.idle": "2022-04-19T09:42:42.402294Z",
     "shell.execute_reply": "2022-04-19T09:42:42.401635Z",
     "shell.execute_reply.started": "2022-04-19T09:42:42.398849Z"
    },
    "tags": []
   },
   "outputs": [],
   "source": [
    "from cuml.neighbors import KNeighborsClassifier\n",
    "knn = KNeighborsClassifier()"
   ]
  },
  {
   "cell_type": "code",
   "execution_count": 132,
   "id": "8092a632-5078-4fa1-b771-d69c4662d732",
   "metadata": {
    "execution": {
     "iopub.execute_input": "2022-04-19T09:42:45.732477Z",
     "iopub.status.busy": "2022-04-19T09:42:45.732164Z",
     "iopub.status.idle": "2022-04-19T09:42:45.744692Z",
     "shell.execute_reply": "2022-04-19T09:42:45.744026Z",
     "shell.execute_reply.started": "2022-04-19T09:42:45.732449Z"
    },
    "tags": []
   },
   "outputs": [
    {
     "name": "stdout",
     "output_type": "stream",
     "text": [
      "time: 0.008864402770996094\n"
     ]
    }
   ],
   "source": [
    "start = time.time()\n",
    "\n",
    "knn.fit(X_train, y_train)\n",
    "\n",
    "print(f'time: {time.time() - start}')"
   ]
  },
  {
   "cell_type": "code",
   "execution_count": 133,
   "id": "7ed6257c-276d-46c8-b45e-a8c381454654",
   "metadata": {
    "execution": {
     "iopub.execute_input": "2022-04-19T09:42:50.283446Z",
     "iopub.status.busy": "2022-04-19T09:42:50.283133Z",
     "iopub.status.idle": "2022-04-19T09:42:50.484636Z",
     "shell.execute_reply": "2022-04-19T09:42:50.483917Z",
     "shell.execute_reply.started": "2022-04-19T09:42:50.283421Z"
    },
    "tags": []
   },
   "outputs": [
    {
     "name": "stdout",
     "output_type": "stream",
     "text": [
      "93531     0\n",
      "34730     0\n",
      "105720    0\n",
      "89341     0\n",
      "21671     0\n",
      "dtype: uint8\n",
      "Time: 0.19739031791687012\n"
     ]
    }
   ],
   "source": [
    "start = time.time()\n",
    "\n",
    "y_test_pred = knn.predict(X_test)\n",
    "y_test_pred.index = X_test.index\n",
    "print(y_test_pred.tail())\n",
    "\n",
    "print(f'Time: {time.time() - start}')"
   ]
  },
  {
   "cell_type": "code",
   "execution_count": 135,
   "id": "9c4cd844-fb02-4599-9143-75a7df05dfe8",
   "metadata": {
    "execution": {
     "iopub.execute_input": "2022-04-19T09:43:07.308566Z",
     "iopub.status.busy": "2022-04-19T09:43:07.308261Z",
     "iopub.status.idle": "2022-04-19T09:43:07.593994Z",
     "shell.execute_reply": "2022-04-19T09:43:07.593327Z",
     "shell.execute_reply.started": "2022-04-19T09:43:07.308541Z"
    },
    "tags": []
   },
   "outputs": [
    {
     "name": "stdout",
     "output_type": "stream",
     "text": [
      "Training accuracy: 0.8620613217353821\n",
      "Time: 0.2818024158477783\n"
     ]
    }
   ],
   "source": [
    "#Train accuracy\n",
    "from cuml.metrics import accuracy_score\n",
    "start = time.time()\n",
    "\n",
    "train_pred = knn.predict(X_train)\n",
    "\n",
    "print(\"Training accuracy:\", accuracy_score(y_train, train_pred))\n",
    "\n",
    "print(f'Time: {time.time() - start}')"
   ]
  },
  {
   "cell_type": "code",
   "execution_count": 139,
   "id": "3d806f6a-384f-4c3d-9c3e-39d3285637fd",
   "metadata": {
    "execution": {
     "iopub.execute_input": "2022-04-19T09:45:19.576180Z",
     "iopub.status.busy": "2022-04-19T09:45:19.575862Z",
     "iopub.status.idle": "2022-04-19T09:45:19.580602Z",
     "shell.execute_reply": "2022-04-19T09:45:19.579918Z",
     "shell.execute_reply.started": "2022-04-19T09:45:19.576154Z"
    },
    "tags": []
   },
   "outputs": [],
   "source": [
    "# Test Accuracy - this line changes something and prevents the validation step from running?\n",
    "test_results = cudf.DataFrame()\n",
    "test_results = X_test\n",
    "test_results['RainTomorrow'] = y_test"
   ]
  },
  {
   "cell_type": "code",
   "execution_count": 75,
   "id": "8e77e6e8-453e-47b0-9b37-5b68583bf9d2",
   "metadata": {
    "execution": {
     "iopub.execute_input": "2022-04-19T09:37:51.821004Z",
     "iopub.status.busy": "2022-04-19T09:37:51.820666Z",
     "iopub.status.idle": "2022-04-19T09:37:51.828280Z",
     "shell.execute_reply": "2022-04-19T09:37:51.827762Z",
     "shell.execute_reply.started": "2022-04-19T09:37:51.820977Z"
    },
    "tags": []
   },
   "outputs": [
    {
     "name": "stdout",
     "output_type": "stream",
     "text": [
      "Test accuracy: 0.8425203561782837\n"
     ]
    }
   ],
   "source": [
    "from cuml.metrics import accuracy_score\n",
    "\n",
    "print(\"Test accuracy:\", accuracy_score(y_test, y_test_pred))"
   ]
  },
  {
   "cell_type": "code",
   "execution_count": 76,
   "id": "7bf5bfb8-9f77-4f9c-9429-99bca5429c40",
   "metadata": {
    "execution": {
     "iopub.execute_input": "2022-04-19T09:37:52.975552Z",
     "iopub.status.busy": "2022-04-19T09:37:52.975119Z",
     "iopub.status.idle": "2022-04-19T09:37:53.022787Z",
     "shell.execute_reply": "2022-04-19T09:37:53.022213Z",
     "shell.execute_reply.started": "2022-04-19T09:37:52.975510Z"
    },
    "tags": []
   },
   "outputs": [
    {
     "data": {
      "text/plain": [
       "<bound method DataFrame.tail of         MinTemp  MaxTemp  Rainfall  Evaporation  Sunshine  WindGustDir  \\\n",
       "14362       5.1     12.3       8.0         11.4       0.5           13   \n",
       "61214      18.5     24.6       0.2          1.6       0.1            9   \n",
       "136258     11.4     19.7       1.2          4.8      10.3           12   \n",
       "71927      11.3     15.4       6.2          1.0       0.1           13   \n",
       "37740       5.3     11.8       2.8          0.6       0.0           14   \n",
       "...         ...      ...       ...          ...       ...          ...   \n",
       "46708      11.7     26.1       0.0          6.0       4.5            7   \n",
       "93450      15.7     28.6       0.0          4.6       9.7            3   \n",
       "141372     24.5     33.5      25.4          9.4       7.1            7   \n",
       "61399       5.3     19.0       0.0          2.0       0.7            3   \n",
       "62583      11.1     22.4       0.0         12.0      13.1            0   \n",
       "\n",
       "        WindGustSpeed  WindDir9am  WindDir3pm  WindSpeed9am  ...  Pressure9am  \\\n",
       "14362            52.0          13          15          35.0  ...       1016.0   \n",
       "61214            33.0          15          10          17.0  ...       1011.3   \n",
       "136258           33.0          12          13          15.0  ...       1018.4   \n",
       "71927            33.0           6          12           9.0  ...       1008.6   \n",
       "37740            28.0           7          13          15.0  ...       1017.0   \n",
       "...               ...         ...         ...           ...  ...          ...   \n",
       "46708            44.0           2           6           4.0  ...       1018.3   \n",
       "93450            28.0           3           3           2.0  ...       1011.9   \n",
       "141372           35.0           6           7          13.0  ...       1007.4   \n",
       "61399            57.0           5           5          19.0  ...       1015.2   \n",
       "62583            37.0          12           2          22.0  ...       1017.8   \n",
       "\n",
       "        Pressure3pm  Cloud9am  Cloud3pm  Temp9am  Temp3pm  RainToday  \\\n",
       "14362        1014.7       8.0       7.0      8.5     11.9          1   \n",
       "61214        1010.0       8.0       8.0     21.8     21.8          0   \n",
       "136258       1015.9       1.0       0.0     13.2     19.2          1   \n",
       "71927        1007.0       7.0       8.0     13.0     13.6          1   \n",
       "37740        1016.3       7.0       7.0      7.6     11.2          1   \n",
       "...             ...       ...       ...      ...      ...        ...   \n",
       "46708        1016.2       5.0       7.0     19.8     23.9          0   \n",
       "93450        1007.7       2.0       2.0     22.9     26.8          0   \n",
       "141372       1004.0       7.0       7.0     29.7     32.8          1   \n",
       "61399        1010.7       7.0       7.0     10.6     18.1          0   \n",
       "62583        1017.3       8.0       8.0     16.6     21.0          0   \n",
       "\n",
       "        RainTomorrow  actual  predicted  \n",
       "14362              0       0          1  \n",
       "61214              1       1          1  \n",
       "136258             0       0          0  \n",
       "71927              1       1          1  \n",
       "37740              0       0          1  \n",
       "...              ...     ...        ...  \n",
       "46708              0       0          0  \n",
       "93450              0       0          0  \n",
       "141372             0       0          0  \n",
       "61399              1       1          0  \n",
       "62583              0       0          0  \n",
       "\n",
       "[11284 rows x 23 columns]>"
      ]
     },
     "execution_count": 76,
     "metadata": {},
     "output_type": "execute_result"
    }
   ],
   "source": [
    "ddf = X_test.copy()\n",
    "\n",
    "ddf['actual'] = y_test.values\n",
    "ddf['predicted'] = y_test_pred.values\n",
    "ddf.tail"
   ]
  },
  {
   "cell_type": "code",
   "execution_count": 71,
   "id": "d9d04f6c-6268-4f73-abcb-3d2108a1697a",
   "metadata": {
    "execution": {
     "iopub.execute_input": "2022-04-19T09:37:31.523242Z",
     "iopub.status.busy": "2022-04-19T09:37:31.522668Z",
     "iopub.status.idle": "2022-04-19T09:37:31.531517Z",
     "shell.execute_reply": "2022-04-19T09:37:31.530905Z",
     "shell.execute_reply.started": "2022-04-19T09:37:31.523217Z"
    },
    "tags": []
   },
   "outputs": [
    {
     "name": "stdout",
     "output_type": "stream",
     "text": [
      "9507 / 11284 correct\n",
      "0.842520382842963% accuracy\n"
     ]
    }
   ],
   "source": [
    "n_correct = len(ddf.loc[ddf['actual'] == ddf['predicted']])\n",
    "n_possible = len(ddf)\n",
    "\n",
    "print(f'{n_correct} / {n_possible} correct\\n{str(n_correct / n_possible)[:17]}% accuracy')"
   ]
  },
  {
   "cell_type": "code",
   "execution_count": 72,
   "id": "e2ec4d1e-8c6d-4bd3-afb6-c0ffe56d0e8e",
   "metadata": {
    "execution": {
     "iopub.execute_input": "2022-04-19T09:37:35.234584Z",
     "iopub.status.busy": "2022-04-19T09:37:35.234271Z",
     "iopub.status.idle": "2022-04-19T09:37:35.237623Z",
     "shell.execute_reply": "2022-04-19T09:37:35.236932Z",
     "shell.execute_reply.started": "2022-04-19T09:37:35.234555Z"
    },
    "tags": []
   },
   "outputs": [],
   "source": [
    "# the model gave the correct outcome 9534/11284 times with 84% accuracy"
   ]
  },
  {
   "cell_type": "code",
   "execution_count": null,
   "id": "13bcfde6-919d-4e45-8379-f9259da6a51c",
   "metadata": {},
   "outputs": [],
   "source": [
    "# For some reason getting the test accuracy changes somehting within X_test and then the validation throws an error. A workaround of repeating the test/train splitting al;lowed for the cross validation step to be run. \n",
    "# This is acceptable as we are more looking at the time to completion"
   ]
  },
  {
   "cell_type": "code",
   "execution_count": 143,
   "id": "7f2acf5b-1f20-49bc-b6ee-533bf4f06c6e",
   "metadata": {
    "execution": {
     "iopub.execute_input": "2022-04-19T09:48:27.073961Z",
     "iopub.status.busy": "2022-04-19T09:48:27.073654Z",
     "iopub.status.idle": "2022-04-19T09:48:27.092974Z",
     "shell.execute_reply": "2022-04-19T09:48:27.092230Z",
     "shell.execute_reply.started": "2022-04-19T09:48:27.073934Z"
    },
    "tags": []
   },
   "outputs": [
    {
     "name": "stdout",
     "output_type": "stream",
     "text": [
      "Time: 0.014655590057373047\n"
     ]
    }
   ],
   "source": [
    "import time\n",
    "start = time.time()\n",
    "\n",
    "from cuml import make_regression, train_test_split\n",
    "X_train, X_test, y_train, y_test  = cuml.train_test_split(df_NA[['MinTemp', 'MaxTemp', 'Rainfall', 'Evaporation', 'Sunshine',\n",
    "       'WindGustDir', 'WindGustSpeed', 'WindDir9am', 'WindDir3pm',\n",
    "       'WindSpeed9am', 'WindSpeed3pm', 'Humidity9am', 'Humidity3pm',\n",
    "       'Pressure9am', 'Pressure3pm', 'Cloud9am', 'Cloud3pm', 'Temp9am',\n",
    "       'Temp3pm', 'RainToday']], df_NA['RainTomorrow'], train_size=0.8)\n",
    "\n",
    "print(f'Time: {time.time() - start}')"
   ]
  },
  {
   "cell_type": "code",
   "execution_count": 144,
   "id": "1c7e0b03-291d-403c-815b-5b4040b25c81",
   "metadata": {
    "execution": {
     "iopub.execute_input": "2022-04-19T09:48:32.389506Z",
     "iopub.status.busy": "2022-04-19T09:48:32.389198Z",
     "iopub.status.idle": "2022-04-19T09:48:38.508422Z",
     "shell.execute_reply": "2022-04-19T09:48:38.507699Z",
     "shell.execute_reply.started": "2022-04-19T09:48:32.389482Z"
    },
    "tags": []
   },
   "outputs": [
    {
     "name": "stdout",
     "output_type": "stream",
     "text": [
      "[0.807692289352417, 0.8293158411979675, 0.8328607082366943, 0.8397731184959412, 0.8403934836387634, 0.8448245525360107, 0.8437610864639282, 0.8486352562904358, 0.8482807278633118, 0.8493441939353943, 0.8478376269340515, 0.848901093006134, 0.8483693599700928, 0.849166989326477, 0.849078357219696, 0.8503190279006958, 0.8509393930435181, 0.8497872948646545, 0.8520914316177368, 0.8502303957939148, 0.8514711260795593, 0.8513824939727783, 0.8502303957939148, 0.8504076600074768, 0.8518255949020386, 0.8522686958312988, 0.8527117967605591, 0.8518255949020386, 0.8529776930809021, 0.8527117967605591]\n",
      "Time: 6.114320993423462\n"
     ]
    }
   ],
   "source": [
    "# choose k between 1 to 31\n",
    "start = time.time()\n",
    "\n",
    "k_range = range(1, 31)\n",
    "scores = []\n",
    "# use iteration to caclulator different k in models, then return the average accuracy based on the cross validation\n",
    "for k in k_range:\n",
    "    knn = KNeighborsClassifier(n_neighbors = k)\n",
    "    knn.fit(X_train, y_train)\n",
    "    y_pred = knn.predict(X_test)\n",
    "    scores.append(accuracy_score(y_test, y_pred))\n",
    "    \n",
    "print(scores)\n",
    "print(f'Time: {time.time() - start}')"
   ]
  },
  {
   "cell_type": "code",
   "execution_count": 145,
   "id": "27011479-a3fe-42b7-82ff-39d3cc524dff",
   "metadata": {
    "execution": {
     "iopub.execute_input": "2022-04-19T09:48:41.905654Z",
     "iopub.status.busy": "2022-04-19T09:48:41.905329Z",
     "iopub.status.idle": "2022-04-19T09:48:42.018631Z",
     "shell.execute_reply": "2022-04-19T09:48:42.017976Z",
     "shell.execute_reply.started": "2022-04-19T09:48:41.905628Z"
    },
    "tags": []
   },
   "outputs": [
    {
     "data": {
      "image/png": "[encoded data removed]",
      "text/plain": [
       "<Figure size 432x288 with 1 Axes>"
      ]
     },
     "metadata": {
      "needs_background": "light"
     },
     "output_type": "display_data"
    },
    {
     "name": "stdout",
     "output_type": "stream",
     "text": [
      "Time: 0.10926055908203125\n"
     ]
    }
   ],
   "source": [
    "start = time.time()\n",
    "\n",
    "# plot to see clearly\n",
    "plt.plot(k_range, scores)\n",
    "plt.xlabel('Value of K for KNN')\n",
    "plt.ylabel('Cross-Validated Accuracy')\n",
    "plt.show()\n",
    "\n",
    "\n",
    "print(f'Time: {time.time() - start}')"
   ]
  },
  {
   "cell_type": "code",
   "execution_count": null,
   "id": "65791bce-8697-4d9b-aca5-68d0f34fa6c1",
   "metadata": {},
   "outputs": [],
   "source": []
  },
  {
   "cell_type": "code",
   "execution_count": null,
   "id": "f4c96e37-7dbf-4ce9-9ccf-f04c106a3319",
   "metadata": {},
   "outputs": [],
   "source": []
  }
 ],
 "metadata": {
  "kernelspec": {
   "display_name": "saturn (Python 3)",
   "language": "python",
   "name": "python3"
  },
  "language_info": {
   "codemirror_mode": {
    "name": "ipython",
    "version": 3
   },
   "file_extension": ".py",
   "mimetype": "text/x-python",
   "name": "python",
   "nbconvert_exporter": "python",
   "pygments_lexer": "ipython3",
   "version": "3.7.12"
  }
 },
 "nbformat": 4,
 "nbformat_minor": 5
}
